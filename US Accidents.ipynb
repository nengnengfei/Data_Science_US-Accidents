{
 "cells": [
  {
   "cell_type": "markdown",
   "id": "2655d130",
   "metadata": {},
   "source": [
    "# US Accidents Exploratory Data Analysis"
   ]
  },
  {
   "cell_type": "markdown",
   "id": "ef4c7dac",
   "metadata": {},
   "source": [
    "### Talk about EDA\n",
    "### Talk about the Dataset (source, what it contains, how it will be useful)\n",
    "    - Kaggle\n",
    "    - Information about accidents\n",
    "    - Can be useful to prevent accidents\n",
    "    - Mention that this dataset does not contain data about New York"
   ]
  },
  {
   "cell_type": "markdown",
   "id": "0045dd36",
   "metadata": {},
   "source": [
    "## Data Preparation and Cleaning\n",
    "    1. Upload the file\n",
    "    2. Look at some information about the data & the columns\n",
    "    3. Fix any missing or incorrect values"
   ]
  },
  {
   "cell_type": "code",
   "execution_count": 4,
   "id": "137273ec",
   "metadata": {},
   "outputs": [],
   "source": [
    "import pandas as pd"
   ]
  },
  {
   "cell_type": "code",
   "execution_count": 5,
   "id": "2ec5a588",
   "metadata": {},
   "outputs": [],
   "source": [
    "# To read the dataset\n",
    "df = pd.read_csv('US_Accidents_Dec21_updated.csv')"
   ]
  },
  {
   "cell_type": "code",
   "execution_count": 7,
   "id": "cdb80f49",
   "metadata": {},
   "outputs": [
    {
     "data": {
      "text/html": [
       "<div>\n",
       "<style scoped>\n",
       "    .dataframe tbody tr th:only-of-type {\n",
       "        vertical-align: middle;\n",
       "    }\n",
       "\n",
       "    .dataframe tbody tr th {\n",
       "        vertical-align: top;\n",
       "    }\n",
       "\n",
       "    .dataframe thead th {\n",
       "        text-align: right;\n",
       "    }\n",
       "</style>\n",
       "<table border=\"1\" class=\"dataframe\">\n",
       "  <thead>\n",
       "    <tr style=\"text-align: right;\">\n",
       "      <th></th>\n",
       "      <th>ID</th>\n",
       "      <th>Severity</th>\n",
       "      <th>Start_Time</th>\n",
       "      <th>End_Time</th>\n",
       "      <th>Start_Lat</th>\n",
       "      <th>Start_Lng</th>\n",
       "      <th>End_Lat</th>\n",
       "      <th>End_Lng</th>\n",
       "      <th>Distance(mi)</th>\n",
       "      <th>Description</th>\n",
       "      <th>...</th>\n",
       "      <th>Roundabout</th>\n",
       "      <th>Station</th>\n",
       "      <th>Stop</th>\n",
       "      <th>Traffic_Calming</th>\n",
       "      <th>Traffic_Signal</th>\n",
       "      <th>Turning_Loop</th>\n",
       "      <th>Sunrise_Sunset</th>\n",
       "      <th>Civil_Twilight</th>\n",
       "      <th>Nautical_Twilight</th>\n",
       "      <th>Astronomical_Twilight</th>\n",
       "    </tr>\n",
       "  </thead>\n",
       "  <tbody>\n",
       "    <tr>\n",
       "      <th>0</th>\n",
       "      <td>A-1</td>\n",
       "      <td>3</td>\n",
       "      <td>2016-02-08 00:37:08</td>\n",
       "      <td>2016-02-08 06:37:08</td>\n",
       "      <td>40.108910</td>\n",
       "      <td>-83.092860</td>\n",
       "      <td>40.112060</td>\n",
       "      <td>-83.031870</td>\n",
       "      <td>3.230</td>\n",
       "      <td>Between Sawmill Rd/Exit 20 and OH-315/Olentang...</td>\n",
       "      <td>...</td>\n",
       "      <td>False</td>\n",
       "      <td>False</td>\n",
       "      <td>False</td>\n",
       "      <td>False</td>\n",
       "      <td>False</td>\n",
       "      <td>False</td>\n",
       "      <td>Night</td>\n",
       "      <td>Night</td>\n",
       "      <td>Night</td>\n",
       "      <td>Night</td>\n",
       "    </tr>\n",
       "    <tr>\n",
       "      <th>1</th>\n",
       "      <td>A-2</td>\n",
       "      <td>2</td>\n",
       "      <td>2016-02-08 05:56:20</td>\n",
       "      <td>2016-02-08 11:56:20</td>\n",
       "      <td>39.865420</td>\n",
       "      <td>-84.062800</td>\n",
       "      <td>39.865010</td>\n",
       "      <td>-84.048730</td>\n",
       "      <td>0.747</td>\n",
       "      <td>At OH-4/OH-235/Exit 41 - Accident.</td>\n",
       "      <td>...</td>\n",
       "      <td>False</td>\n",
       "      <td>False</td>\n",
       "      <td>False</td>\n",
       "      <td>False</td>\n",
       "      <td>False</td>\n",
       "      <td>False</td>\n",
       "      <td>Night</td>\n",
       "      <td>Night</td>\n",
       "      <td>Night</td>\n",
       "      <td>Night</td>\n",
       "    </tr>\n",
       "    <tr>\n",
       "      <th>2</th>\n",
       "      <td>A-3</td>\n",
       "      <td>2</td>\n",
       "      <td>2016-02-08 06:15:39</td>\n",
       "      <td>2016-02-08 12:15:39</td>\n",
       "      <td>39.102660</td>\n",
       "      <td>-84.524680</td>\n",
       "      <td>39.102090</td>\n",
       "      <td>-84.523960</td>\n",
       "      <td>0.055</td>\n",
       "      <td>At I-71/US-50/Exit 1 - Accident.</td>\n",
       "      <td>...</td>\n",
       "      <td>False</td>\n",
       "      <td>False</td>\n",
       "      <td>False</td>\n",
       "      <td>False</td>\n",
       "      <td>False</td>\n",
       "      <td>False</td>\n",
       "      <td>Night</td>\n",
       "      <td>Night</td>\n",
       "      <td>Night</td>\n",
       "      <td>Day</td>\n",
       "    </tr>\n",
       "    <tr>\n",
       "      <th>3</th>\n",
       "      <td>A-4</td>\n",
       "      <td>2</td>\n",
       "      <td>2016-02-08 06:51:45</td>\n",
       "      <td>2016-02-08 12:51:45</td>\n",
       "      <td>41.062130</td>\n",
       "      <td>-81.537840</td>\n",
       "      <td>41.062170</td>\n",
       "      <td>-81.535470</td>\n",
       "      <td>0.123</td>\n",
       "      <td>At Dart Ave/Exit 21 - Accident.</td>\n",
       "      <td>...</td>\n",
       "      <td>False</td>\n",
       "      <td>False</td>\n",
       "      <td>False</td>\n",
       "      <td>False</td>\n",
       "      <td>False</td>\n",
       "      <td>False</td>\n",
       "      <td>Night</td>\n",
       "      <td>Night</td>\n",
       "      <td>Day</td>\n",
       "      <td>Day</td>\n",
       "    </tr>\n",
       "    <tr>\n",
       "      <th>4</th>\n",
       "      <td>A-5</td>\n",
       "      <td>3</td>\n",
       "      <td>2016-02-08 07:53:43</td>\n",
       "      <td>2016-02-08 13:53:43</td>\n",
       "      <td>39.172393</td>\n",
       "      <td>-84.492792</td>\n",
       "      <td>39.170476</td>\n",
       "      <td>-84.501798</td>\n",
       "      <td>0.500</td>\n",
       "      <td>At Mitchell Ave/Exit 6 - Accident.</td>\n",
       "      <td>...</td>\n",
       "      <td>False</td>\n",
       "      <td>False</td>\n",
       "      <td>False</td>\n",
       "      <td>False</td>\n",
       "      <td>False</td>\n",
       "      <td>False</td>\n",
       "      <td>Day</td>\n",
       "      <td>Day</td>\n",
       "      <td>Day</td>\n",
       "      <td>Day</td>\n",
       "    </tr>\n",
       "    <tr>\n",
       "      <th>...</th>\n",
       "      <td>...</td>\n",
       "      <td>...</td>\n",
       "      <td>...</td>\n",
       "      <td>...</td>\n",
       "      <td>...</td>\n",
       "      <td>...</td>\n",
       "      <td>...</td>\n",
       "      <td>...</td>\n",
       "      <td>...</td>\n",
       "      <td>...</td>\n",
       "      <td>...</td>\n",
       "      <td>...</td>\n",
       "      <td>...</td>\n",
       "      <td>...</td>\n",
       "      <td>...</td>\n",
       "      <td>...</td>\n",
       "      <td>...</td>\n",
       "      <td>...</td>\n",
       "      <td>...</td>\n",
       "      <td>...</td>\n",
       "      <td>...</td>\n",
       "    </tr>\n",
       "    <tr>\n",
       "      <th>2845337</th>\n",
       "      <td>A-2845338</td>\n",
       "      <td>2</td>\n",
       "      <td>2019-08-23 18:03:25</td>\n",
       "      <td>2019-08-23 18:32:01</td>\n",
       "      <td>34.002480</td>\n",
       "      <td>-117.379360</td>\n",
       "      <td>33.998880</td>\n",
       "      <td>-117.370940</td>\n",
       "      <td>0.543</td>\n",
       "      <td>At Market St - Accident.</td>\n",
       "      <td>...</td>\n",
       "      <td>False</td>\n",
       "      <td>False</td>\n",
       "      <td>False</td>\n",
       "      <td>False</td>\n",
       "      <td>False</td>\n",
       "      <td>False</td>\n",
       "      <td>Day</td>\n",
       "      <td>Day</td>\n",
       "      <td>Day</td>\n",
       "      <td>Day</td>\n",
       "    </tr>\n",
       "    <tr>\n",
       "      <th>2845338</th>\n",
       "      <td>A-2845339</td>\n",
       "      <td>2</td>\n",
       "      <td>2019-08-23 19:11:30</td>\n",
       "      <td>2019-08-23 19:38:23</td>\n",
       "      <td>32.766960</td>\n",
       "      <td>-117.148060</td>\n",
       "      <td>32.765550</td>\n",
       "      <td>-117.153630</td>\n",
       "      <td>0.338</td>\n",
       "      <td>At Camino Del Rio/Mission Center Rd - Accident.</td>\n",
       "      <td>...</td>\n",
       "      <td>False</td>\n",
       "      <td>False</td>\n",
       "      <td>False</td>\n",
       "      <td>False</td>\n",
       "      <td>False</td>\n",
       "      <td>False</td>\n",
       "      <td>Day</td>\n",
       "      <td>Day</td>\n",
       "      <td>Day</td>\n",
       "      <td>Day</td>\n",
       "    </tr>\n",
       "    <tr>\n",
       "      <th>2845339</th>\n",
       "      <td>A-2845340</td>\n",
       "      <td>2</td>\n",
       "      <td>2019-08-23 19:00:21</td>\n",
       "      <td>2019-08-23 19:28:49</td>\n",
       "      <td>33.775450</td>\n",
       "      <td>-117.847790</td>\n",
       "      <td>33.777400</td>\n",
       "      <td>-117.857270</td>\n",
       "      <td>0.561</td>\n",
       "      <td>At Glassell St/Grand Ave - Accident. in the ri...</td>\n",
       "      <td>...</td>\n",
       "      <td>False</td>\n",
       "      <td>False</td>\n",
       "      <td>False</td>\n",
       "      <td>False</td>\n",
       "      <td>False</td>\n",
       "      <td>False</td>\n",
       "      <td>Day</td>\n",
       "      <td>Day</td>\n",
       "      <td>Day</td>\n",
       "      <td>Day</td>\n",
       "    </tr>\n",
       "    <tr>\n",
       "      <th>2845340</th>\n",
       "      <td>A-2845341</td>\n",
       "      <td>2</td>\n",
       "      <td>2019-08-23 19:00:21</td>\n",
       "      <td>2019-08-23 19:29:42</td>\n",
       "      <td>33.992460</td>\n",
       "      <td>-118.403020</td>\n",
       "      <td>33.983110</td>\n",
       "      <td>-118.395650</td>\n",
       "      <td>0.772</td>\n",
       "      <td>At CA-90/Marina Fwy/Jefferson Blvd - Accident.</td>\n",
       "      <td>...</td>\n",
       "      <td>False</td>\n",
       "      <td>False</td>\n",
       "      <td>False</td>\n",
       "      <td>False</td>\n",
       "      <td>False</td>\n",
       "      <td>False</td>\n",
       "      <td>Day</td>\n",
       "      <td>Day</td>\n",
       "      <td>Day</td>\n",
       "      <td>Day</td>\n",
       "    </tr>\n",
       "    <tr>\n",
       "      <th>2845341</th>\n",
       "      <td>A-2845342</td>\n",
       "      <td>2</td>\n",
       "      <td>2019-08-23 18:52:06</td>\n",
       "      <td>2019-08-23 19:21:31</td>\n",
       "      <td>34.133930</td>\n",
       "      <td>-117.230920</td>\n",
       "      <td>34.137360</td>\n",
       "      <td>-117.239340</td>\n",
       "      <td>0.537</td>\n",
       "      <td>At Highland Ave/Arden Ave - Accident.</td>\n",
       "      <td>...</td>\n",
       "      <td>False</td>\n",
       "      <td>False</td>\n",
       "      <td>False</td>\n",
       "      <td>False</td>\n",
       "      <td>False</td>\n",
       "      <td>False</td>\n",
       "      <td>Day</td>\n",
       "      <td>Day</td>\n",
       "      <td>Day</td>\n",
       "      <td>Day</td>\n",
       "    </tr>\n",
       "  </tbody>\n",
       "</table>\n",
       "<p>2845342 rows × 47 columns</p>\n",
       "</div>"
      ],
      "text/plain": [
       "                ID  Severity           Start_Time             End_Time  \\\n",
       "0              A-1         3  2016-02-08 00:37:08  2016-02-08 06:37:08   \n",
       "1              A-2         2  2016-02-08 05:56:20  2016-02-08 11:56:20   \n",
       "2              A-3         2  2016-02-08 06:15:39  2016-02-08 12:15:39   \n",
       "3              A-4         2  2016-02-08 06:51:45  2016-02-08 12:51:45   \n",
       "4              A-5         3  2016-02-08 07:53:43  2016-02-08 13:53:43   \n",
       "...            ...       ...                  ...                  ...   \n",
       "2845337  A-2845338         2  2019-08-23 18:03:25  2019-08-23 18:32:01   \n",
       "2845338  A-2845339         2  2019-08-23 19:11:30  2019-08-23 19:38:23   \n",
       "2845339  A-2845340         2  2019-08-23 19:00:21  2019-08-23 19:28:49   \n",
       "2845340  A-2845341         2  2019-08-23 19:00:21  2019-08-23 19:29:42   \n",
       "2845341  A-2845342         2  2019-08-23 18:52:06  2019-08-23 19:21:31   \n",
       "\n",
       "         Start_Lat   Start_Lng    End_Lat     End_Lng  Distance(mi)  \\\n",
       "0        40.108910  -83.092860  40.112060  -83.031870         3.230   \n",
       "1        39.865420  -84.062800  39.865010  -84.048730         0.747   \n",
       "2        39.102660  -84.524680  39.102090  -84.523960         0.055   \n",
       "3        41.062130  -81.537840  41.062170  -81.535470         0.123   \n",
       "4        39.172393  -84.492792  39.170476  -84.501798         0.500   \n",
       "...            ...         ...        ...         ...           ...   \n",
       "2845337  34.002480 -117.379360  33.998880 -117.370940         0.543   \n",
       "2845338  32.766960 -117.148060  32.765550 -117.153630         0.338   \n",
       "2845339  33.775450 -117.847790  33.777400 -117.857270         0.561   \n",
       "2845340  33.992460 -118.403020  33.983110 -118.395650         0.772   \n",
       "2845341  34.133930 -117.230920  34.137360 -117.239340         0.537   \n",
       "\n",
       "                                               Description  ...  Roundabout  \\\n",
       "0        Between Sawmill Rd/Exit 20 and OH-315/Olentang...  ...       False   \n",
       "1                       At OH-4/OH-235/Exit 41 - Accident.  ...       False   \n",
       "2                         At I-71/US-50/Exit 1 - Accident.  ...       False   \n",
       "3                          At Dart Ave/Exit 21 - Accident.  ...       False   \n",
       "4                       At Mitchell Ave/Exit 6 - Accident.  ...       False   \n",
       "...                                                    ...  ...         ...   \n",
       "2845337                           At Market St - Accident.  ...       False   \n",
       "2845338    At Camino Del Rio/Mission Center Rd - Accident.  ...       False   \n",
       "2845339  At Glassell St/Grand Ave - Accident. in the ri...  ...       False   \n",
       "2845340     At CA-90/Marina Fwy/Jefferson Blvd - Accident.  ...       False   \n",
       "2845341              At Highland Ave/Arden Ave - Accident.  ...       False   \n",
       "\n",
       "        Station   Stop Traffic_Calming Traffic_Signal Turning_Loop  \\\n",
       "0         False  False           False          False        False   \n",
       "1         False  False           False          False        False   \n",
       "2         False  False           False          False        False   \n",
       "3         False  False           False          False        False   \n",
       "4         False  False           False          False        False   \n",
       "...         ...    ...             ...            ...          ...   \n",
       "2845337   False  False           False          False        False   \n",
       "2845338   False  False           False          False        False   \n",
       "2845339   False  False           False          False        False   \n",
       "2845340   False  False           False          False        False   \n",
       "2845341   False  False           False          False        False   \n",
       "\n",
       "        Sunrise_Sunset Civil_Twilight Nautical_Twilight Astronomical_Twilight  \n",
       "0                Night          Night             Night                 Night  \n",
       "1                Night          Night             Night                 Night  \n",
       "2                Night          Night             Night                   Day  \n",
       "3                Night          Night               Day                   Day  \n",
       "4                  Day            Day               Day                   Day  \n",
       "...                ...            ...               ...                   ...  \n",
       "2845337            Day            Day               Day                   Day  \n",
       "2845338            Day            Day               Day                   Day  \n",
       "2845339            Day            Day               Day                   Day  \n",
       "2845340            Day            Day               Day                   Day  \n",
       "2845341            Day            Day               Day                   Day  \n",
       "\n",
       "[2845342 rows x 47 columns]"
      ]
     },
     "execution_count": 7,
     "metadata": {},
     "output_type": "execute_result"
    }
   ],
   "source": [
    "df"
   ]
  },
  {
   "cell_type": "code",
   "execution_count": 11,
   "id": "35cf0a06",
   "metadata": {},
   "outputs": [
    {
     "data": {
      "text/plain": [
       "Index(['ID', 'Severity', 'Start_Time', 'End_Time', 'Start_Lat', 'Start_Lng',\n",
       "       'End_Lat', 'End_Lng', 'Distance(mi)', 'Description', 'Number', 'Street',\n",
       "       'Side', 'City', 'County', 'State', 'Zipcode', 'Country', 'Timezone',\n",
       "       'Airport_Code', 'Weather_Timestamp', 'Temperature(F)', 'Wind_Chill(F)',\n",
       "       'Humidity(%)', 'Pressure(in)', 'Visibility(mi)', 'Wind_Direction',\n",
       "       'Wind_Speed(mph)', 'Precipitation(in)', 'Weather_Condition', 'Amenity',\n",
       "       'Bump', 'Crossing', 'Give_Way', 'Junction', 'No_Exit', 'Railway',\n",
       "       'Roundabout', 'Station', 'Stop', 'Traffic_Calming', 'Traffic_Signal',\n",
       "       'Turning_Loop', 'Sunrise_Sunset', 'Civil_Twilight', 'Nautical_Twilight',\n",
       "       'Astronomical_Twilight'],\n",
       "      dtype='object')"
      ]
     },
     "execution_count": 11,
     "metadata": {},
     "output_type": "execute_result"
    }
   ],
   "source": [
    "# To check what column it contains\n",
    "df.columns"
   ]
  },
  {
   "cell_type": "code",
   "execution_count": 11,
   "id": "71638735",
   "metadata": {
    "scrolled": false
   },
   "outputs": [
    {
     "name": "stdout",
     "output_type": "stream",
     "text": [
      "<class 'pandas.core.frame.DataFrame'>\n",
      "RangeIndex: 2845342 entries, 0 to 2845341\n",
      "Data columns (total 47 columns):\n",
      " #   Column                 Dtype  \n",
      "---  ------                 -----  \n",
      " 0   ID                     object \n",
      " 1   Severity               int64  \n",
      " 2   Start_Time             object \n",
      " 3   End_Time               object \n",
      " 4   Start_Lat              float64\n",
      " 5   Start_Lng              float64\n",
      " 6   End_Lat                float64\n",
      " 7   End_Lng                float64\n",
      " 8   Distance(mi)           float64\n",
      " 9   Description            object \n",
      " 10  Number                 float64\n",
      " 11  Street                 object \n",
      " 12  Side                   object \n",
      " 13  City                   object \n",
      " 14  County                 object \n",
      " 15  State                  object \n",
      " 16  Zipcode                object \n",
      " 17  Country                object \n",
      " 18  Timezone               object \n",
      " 19  Airport_Code           object \n",
      " 20  Weather_Timestamp      object \n",
      " 21  Temperature(F)         float64\n",
      " 22  Wind_Chill(F)          float64\n",
      " 23  Humidity(%)            float64\n",
      " 24  Pressure(in)           float64\n",
      " 25  Visibility(mi)         float64\n",
      " 26  Wind_Direction         object \n",
      " 27  Wind_Speed(mph)        float64\n",
      " 28  Precipitation(in)      float64\n",
      " 29  Weather_Condition      object \n",
      " 30  Amenity                bool   \n",
      " 31  Bump                   bool   \n",
      " 32  Crossing               bool   \n",
      " 33  Give_Way               bool   \n",
      " 34  Junction               bool   \n",
      " 35  No_Exit                bool   \n",
      " 36  Railway                bool   \n",
      " 37  Roundabout             bool   \n",
      " 38  Station                bool   \n",
      " 39  Stop                   bool   \n",
      " 40  Traffic_Calming        bool   \n",
      " 41  Traffic_Signal         bool   \n",
      " 42  Turning_Loop           bool   \n",
      " 43  Sunrise_Sunset         object \n",
      " 44  Civil_Twilight         object \n",
      " 45  Nautical_Twilight      object \n",
      " 46  Astronomical_Twilight  object \n",
      "dtypes: bool(13), float64(13), int64(1), object(20)\n",
      "memory usage: 773.4+ MB\n"
     ]
    }
   ],
   "source": [
    "# To know the column names and data type\n",
    "df.info()"
   ]
  },
  {
   "cell_type": "code",
   "execution_count": 10,
   "id": "ecf0f441",
   "metadata": {},
   "outputs": [
    {
     "data": {
      "text/html": [
       "<div>\n",
       "<style scoped>\n",
       "    .dataframe tbody tr th:only-of-type {\n",
       "        vertical-align: middle;\n",
       "    }\n",
       "\n",
       "    .dataframe tbody tr th {\n",
       "        vertical-align: top;\n",
       "    }\n",
       "\n",
       "    .dataframe thead th {\n",
       "        text-align: right;\n",
       "    }\n",
       "</style>\n",
       "<table border=\"1\" class=\"dataframe\">\n",
       "  <thead>\n",
       "    <tr style=\"text-align: right;\">\n",
       "      <th></th>\n",
       "      <th>Severity</th>\n",
       "      <th>Start_Lat</th>\n",
       "      <th>Start_Lng</th>\n",
       "      <th>End_Lat</th>\n",
       "      <th>End_Lng</th>\n",
       "      <th>Distance(mi)</th>\n",
       "      <th>Number</th>\n",
       "      <th>Temperature(F)</th>\n",
       "      <th>Wind_Chill(F)</th>\n",
       "      <th>Humidity(%)</th>\n",
       "      <th>Pressure(in)</th>\n",
       "      <th>Visibility(mi)</th>\n",
       "      <th>Wind_Speed(mph)</th>\n",
       "      <th>Precipitation(in)</th>\n",
       "    </tr>\n",
       "  </thead>\n",
       "  <tbody>\n",
       "    <tr>\n",
       "      <th>count</th>\n",
       "      <td>2.845342e+06</td>\n",
       "      <td>2.845342e+06</td>\n",
       "      <td>2.845342e+06</td>\n",
       "      <td>2.845342e+06</td>\n",
       "      <td>2.845342e+06</td>\n",
       "      <td>2.845342e+06</td>\n",
       "      <td>1.101431e+06</td>\n",
       "      <td>2.776068e+06</td>\n",
       "      <td>2.375699e+06</td>\n",
       "      <td>2.772250e+06</td>\n",
       "      <td>2.786142e+06</td>\n",
       "      <td>2.774796e+06</td>\n",
       "      <td>2.687398e+06</td>\n",
       "      <td>2.295884e+06</td>\n",
       "    </tr>\n",
       "    <tr>\n",
       "      <th>mean</th>\n",
       "      <td>2.137572e+00</td>\n",
       "      <td>3.624520e+01</td>\n",
       "      <td>-9.711463e+01</td>\n",
       "      <td>3.624532e+01</td>\n",
       "      <td>-9.711439e+01</td>\n",
       "      <td>7.026779e-01</td>\n",
       "      <td>8.089408e+03</td>\n",
       "      <td>6.179356e+01</td>\n",
       "      <td>5.965823e+01</td>\n",
       "      <td>6.436545e+01</td>\n",
       "      <td>2.947234e+01</td>\n",
       "      <td>9.099391e+00</td>\n",
       "      <td>7.395044e+00</td>\n",
       "      <td>7.016940e-03</td>\n",
       "    </tr>\n",
       "    <tr>\n",
       "      <th>std</th>\n",
       "      <td>4.787216e-01</td>\n",
       "      <td>5.363797e+00</td>\n",
       "      <td>1.831782e+01</td>\n",
       "      <td>5.363873e+00</td>\n",
       "      <td>1.831763e+01</td>\n",
       "      <td>1.560361e+00</td>\n",
       "      <td>1.836009e+04</td>\n",
       "      <td>1.862263e+01</td>\n",
       "      <td>2.116097e+01</td>\n",
       "      <td>2.287457e+01</td>\n",
       "      <td>1.045286e+00</td>\n",
       "      <td>2.717546e+00</td>\n",
       "      <td>5.527454e+00</td>\n",
       "      <td>9.348831e-02</td>\n",
       "    </tr>\n",
       "    <tr>\n",
       "      <th>min</th>\n",
       "      <td>1.000000e+00</td>\n",
       "      <td>2.456603e+01</td>\n",
       "      <td>-1.245481e+02</td>\n",
       "      <td>2.456601e+01</td>\n",
       "      <td>-1.245457e+02</td>\n",
       "      <td>0.000000e+00</td>\n",
       "      <td>0.000000e+00</td>\n",
       "      <td>-8.900000e+01</td>\n",
       "      <td>-8.900000e+01</td>\n",
       "      <td>1.000000e+00</td>\n",
       "      <td>0.000000e+00</td>\n",
       "      <td>0.000000e+00</td>\n",
       "      <td>0.000000e+00</td>\n",
       "      <td>0.000000e+00</td>\n",
       "    </tr>\n",
       "    <tr>\n",
       "      <th>25%</th>\n",
       "      <td>2.000000e+00</td>\n",
       "      <td>3.344517e+01</td>\n",
       "      <td>-1.180331e+02</td>\n",
       "      <td>3.344628e+01</td>\n",
       "      <td>-1.180333e+02</td>\n",
       "      <td>5.200000e-02</td>\n",
       "      <td>1.270000e+03</td>\n",
       "      <td>5.000000e+01</td>\n",
       "      <td>4.600000e+01</td>\n",
       "      <td>4.800000e+01</td>\n",
       "      <td>2.931000e+01</td>\n",
       "      <td>1.000000e+01</td>\n",
       "      <td>3.500000e+00</td>\n",
       "      <td>0.000000e+00</td>\n",
       "    </tr>\n",
       "    <tr>\n",
       "      <th>50%</th>\n",
       "      <td>2.000000e+00</td>\n",
       "      <td>3.609861e+01</td>\n",
       "      <td>-9.241808e+01</td>\n",
       "      <td>3.609799e+01</td>\n",
       "      <td>-9.241772e+01</td>\n",
       "      <td>2.440000e-01</td>\n",
       "      <td>4.007000e+03</td>\n",
       "      <td>6.400000e+01</td>\n",
       "      <td>6.300000e+01</td>\n",
       "      <td>6.700000e+01</td>\n",
       "      <td>2.982000e+01</td>\n",
       "      <td>1.000000e+01</td>\n",
       "      <td>7.000000e+00</td>\n",
       "      <td>0.000000e+00</td>\n",
       "    </tr>\n",
       "    <tr>\n",
       "      <th>75%</th>\n",
       "      <td>2.000000e+00</td>\n",
       "      <td>4.016024e+01</td>\n",
       "      <td>-8.037243e+01</td>\n",
       "      <td>4.016105e+01</td>\n",
       "      <td>-8.037338e+01</td>\n",
       "      <td>7.640000e-01</td>\n",
       "      <td>9.567000e+03</td>\n",
       "      <td>7.600000e+01</td>\n",
       "      <td>7.600000e+01</td>\n",
       "      <td>8.300000e+01</td>\n",
       "      <td>3.001000e+01</td>\n",
       "      <td>1.000000e+01</td>\n",
       "      <td>1.000000e+01</td>\n",
       "      <td>0.000000e+00</td>\n",
       "    </tr>\n",
       "    <tr>\n",
       "      <th>max</th>\n",
       "      <td>4.000000e+00</td>\n",
       "      <td>4.900058e+01</td>\n",
       "      <td>-6.711317e+01</td>\n",
       "      <td>4.907500e+01</td>\n",
       "      <td>-6.710924e+01</td>\n",
       "      <td>1.551860e+02</td>\n",
       "      <td>9.999997e+06</td>\n",
       "      <td>1.960000e+02</td>\n",
       "      <td>1.960000e+02</td>\n",
       "      <td>1.000000e+02</td>\n",
       "      <td>5.890000e+01</td>\n",
       "      <td>1.400000e+02</td>\n",
       "      <td>1.087000e+03</td>\n",
       "      <td>2.400000e+01</td>\n",
       "    </tr>\n",
       "  </tbody>\n",
       "</table>\n",
       "</div>"
      ],
      "text/plain": [
       "           Severity     Start_Lat     Start_Lng       End_Lat       End_Lng  \\\n",
       "count  2.845342e+06  2.845342e+06  2.845342e+06  2.845342e+06  2.845342e+06   \n",
       "mean   2.137572e+00  3.624520e+01 -9.711463e+01  3.624532e+01 -9.711439e+01   \n",
       "std    4.787216e-01  5.363797e+00  1.831782e+01  5.363873e+00  1.831763e+01   \n",
       "min    1.000000e+00  2.456603e+01 -1.245481e+02  2.456601e+01 -1.245457e+02   \n",
       "25%    2.000000e+00  3.344517e+01 -1.180331e+02  3.344628e+01 -1.180333e+02   \n",
       "50%    2.000000e+00  3.609861e+01 -9.241808e+01  3.609799e+01 -9.241772e+01   \n",
       "75%    2.000000e+00  4.016024e+01 -8.037243e+01  4.016105e+01 -8.037338e+01   \n",
       "max    4.000000e+00  4.900058e+01 -6.711317e+01  4.907500e+01 -6.710924e+01   \n",
       "\n",
       "       Distance(mi)        Number  Temperature(F)  Wind_Chill(F)  \\\n",
       "count  2.845342e+06  1.101431e+06    2.776068e+06   2.375699e+06   \n",
       "mean   7.026779e-01  8.089408e+03    6.179356e+01   5.965823e+01   \n",
       "std    1.560361e+00  1.836009e+04    1.862263e+01   2.116097e+01   \n",
       "min    0.000000e+00  0.000000e+00   -8.900000e+01  -8.900000e+01   \n",
       "25%    5.200000e-02  1.270000e+03    5.000000e+01   4.600000e+01   \n",
       "50%    2.440000e-01  4.007000e+03    6.400000e+01   6.300000e+01   \n",
       "75%    7.640000e-01  9.567000e+03    7.600000e+01   7.600000e+01   \n",
       "max    1.551860e+02  9.999997e+06    1.960000e+02   1.960000e+02   \n",
       "\n",
       "        Humidity(%)  Pressure(in)  Visibility(mi)  Wind_Speed(mph)  \\\n",
       "count  2.772250e+06  2.786142e+06    2.774796e+06     2.687398e+06   \n",
       "mean   6.436545e+01  2.947234e+01    9.099391e+00     7.395044e+00   \n",
       "std    2.287457e+01  1.045286e+00    2.717546e+00     5.527454e+00   \n",
       "min    1.000000e+00  0.000000e+00    0.000000e+00     0.000000e+00   \n",
       "25%    4.800000e+01  2.931000e+01    1.000000e+01     3.500000e+00   \n",
       "50%    6.700000e+01  2.982000e+01    1.000000e+01     7.000000e+00   \n",
       "75%    8.300000e+01  3.001000e+01    1.000000e+01     1.000000e+01   \n",
       "max    1.000000e+02  5.890000e+01    1.400000e+02     1.087000e+03   \n",
       "\n",
       "       Precipitation(in)  \n",
       "count       2.295884e+06  \n",
       "mean        7.016940e-03  \n",
       "std         9.348831e-02  \n",
       "min         0.000000e+00  \n",
       "25%         0.000000e+00  \n",
       "50%         0.000000e+00  \n",
       "75%         0.000000e+00  \n",
       "max         2.400000e+01  "
      ]
     },
     "execution_count": 10,
     "metadata": {},
     "output_type": "execute_result"
    }
   ],
   "source": [
    "# To calculate the aggregate statistics\n",
    "df.describe()"
   ]
  },
  {
   "cell_type": "code",
   "execution_count": 12,
   "id": "91ea8707",
   "metadata": {},
   "outputs": [
    {
     "data": {
      "text/plain": [
       "14"
      ]
     },
     "execution_count": 12,
     "metadata": {},
     "output_type": "execute_result"
    }
   ],
   "source": [
    "# To count number of numerical columns\n",
    "numerics = ['int16', 'int32', 'int64', 'float16', 'float32', 'float64']\n",
    "\n",
    "numeric_df = df.select_dtypes(include=numerics)\n",
    "len(numeric_df.columns)"
   ]
  },
  {
   "cell_type": "code",
   "execution_count": 13,
   "id": "d94b6555",
   "metadata": {},
   "outputs": [
    {
     "data": {
      "text/plain": [
       "<AxesSubplot:>"
      ]
     },
     "execution_count": 13,
     "metadata": {},
     "output_type": "execute_result"
    },
    {
     "data": {
      "image/png": "[encoded data removed]",
      "text/plain": [
       "<Figure size 640x480 with 1 Axes>"
      ]
     },
     "metadata": {},
     "output_type": "display_data"
    }
   ],
   "source": [
    "# To find out if there is any missing value and present as percentage of total \n",
    "missing_percentages = df.isnull().sum().sort_values(ascending = False)/len(df)\n",
    "missing_percentages[missing_percentages != 0].plot(kind = \"barh\")"
   ]
  },
  {
   "cell_type": "markdown",
   "id": "8d22cf91",
   "metadata": {},
   "source": [
    "## Exploratory Analysis and Visualization\n",
    "### Analyze some columns\n",
    "    1. City\n",
    "    2. Start Time\n",
    "    3. Start Lat, Start Lng"
   ]
  },
  {
   "cell_type": "markdown",
   "id": "b084ad16",
   "metadata": {},
   "source": [
    "### 1. City"
   ]
  },
  {
   "cell_type": "code",
   "execution_count": 14,
   "id": "0f5f70b5",
   "metadata": {},
   "outputs": [
    {
     "data": {
      "text/plain": [
       "11682"
      ]
     },
     "execution_count": 14,
     "metadata": {},
     "output_type": "execute_result"
    }
   ],
   "source": [
    "# To get the number of unique city\n",
    "cities = df.City.unique()\n",
    "len(cities)"
   ]
  },
  {
   "cell_type": "code",
   "execution_count": 15,
   "id": "6513ec64",
   "metadata": {},
   "outputs": [
    {
     "data": {
      "text/plain": [
       "Miami                           106966\n",
       "Los Angeles                      68956\n",
       "Orlando                          54691\n",
       "Dallas                           41979\n",
       "Houston                          39448\n",
       "                                 ...  \n",
       "Ridgedale                            1\n",
       "Sekiu                                1\n",
       "Wooldridge                           1\n",
       "Bullock                              1\n",
       "American Fork-Pleasant Grove         1\n",
       "Name: City, Length: 11681, dtype: int64"
      ]
     },
     "execution_count": 15,
     "metadata": {},
     "output_type": "execute_result"
    }
   ],
   "source": [
    "# To count the number of accidents by city\n",
    "cities_by_accident = df.City.value_counts()\n",
    "cities_by_accident"
   ]
  },
  {
   "cell_type": "code",
   "execution_count": 16,
   "id": "6f17f83f",
   "metadata": {},
   "outputs": [
    {
     "data": {
      "text/plain": [
       "Miami           106966\n",
       "Los Angeles      68956\n",
       "Orlando          54691\n",
       "Dallas           41979\n",
       "Houston          39448\n",
       "Charlotte        33152\n",
       "Sacramento       32559\n",
       "San Diego        26627\n",
       "Raleigh          22840\n",
       "Minneapolis      22768\n",
       "Portland         20944\n",
       "Nashville        20267\n",
       "Austin           18301\n",
       "Baton Rouge      18182\n",
       "Phoenix          17143\n",
       "Saint Paul       16869\n",
       "New Orleans      16251\n",
       "Atlanta          15622\n",
       "Jacksonville     14967\n",
       "Richmond         14349\n",
       "Name: City, dtype: int64"
      ]
     },
     "execution_count": 16,
     "metadata": {},
     "output_type": "execute_result"
    }
   ],
   "source": [
    "# 20 cities where accidents happen the most\n",
    "cities_by_accident[:20]"
   ]
  },
  {
   "cell_type": "code",
   "execution_count": 17,
   "id": "27661919",
   "metadata": {},
   "outputs": [
    {
     "data": {
      "text/plain": [
       "<AxesSubplot:>"
      ]
     },
     "execution_count": 17,
     "metadata": {},
     "output_type": "execute_result"
    },
    {
     "data": {
      "image/png": "[encoded data removed]",
      "text/plain": [
       "<Figure size 640x480 with 1 Axes>"
      ]
     },
     "metadata": {},
     "output_type": "display_data"
    }
   ],
   "source": [
    "# To visualize those 20 cities where accidents happen the most \n",
    "cities_by_accident[:20].plot(kind = \"barh\")"
   ]
  },
  {
   "cell_type": "code",
   "execution_count": 18,
   "id": "b885573f",
   "metadata": {},
   "outputs": [],
   "source": [
    "import seaborn as sns\n",
    "sns.set_style(\"darkgrid\")"
   ]
  },
  {
   "cell_type": "code",
   "execution_count": 48,
   "id": "eae1b85e",
   "metadata": {},
   "outputs": [
    {
     "data": {
      "text/plain": [
       "<AxesSubplot:xlabel='City', ylabel='Count'>"
      ]
     },
     "execution_count": 48,
     "metadata": {},
     "output_type": "execute_result"
    },
    {
     "data": {
      "image/png": "[encoded data removed]",
      "text/plain": [
       "<Figure size 640x480 with 1 Axes>"
      ]
     },
     "metadata": {},
     "output_type": "display_data"
    }
   ],
   "source": [
    "# To know what is the distribution of accidents? \n",
    "sns.histplot(cities_by_accident, log_scale = True)"
   ]
  },
  {
   "cell_type": "code",
   "execution_count": 19,
   "id": "0b12b896",
   "metadata": {},
   "outputs": [],
   "source": [
    "# Based on the distribution of accidents, we can know that most of cities have very few accidents\n",
    "high_accident_cities = cities_by_accident[cities_by_accident >= 1000]\n",
    "low_accident_cities = cities_by_accident[cities_by_accident < 1000]"
   ]
  },
  {
   "cell_type": "code",
   "execution_count": 20,
   "id": "07f072b6",
   "metadata": {},
   "outputs": [
    {
     "data": {
      "text/plain": [
       "496"
      ]
     },
     "execution_count": 20,
     "metadata": {},
     "output_type": "execute_result"
    }
   ],
   "source": [
    "# To know how many cities has more than 1000 accidents\n",
    "len(high_accident_cities)"
   ]
  },
  {
   "cell_type": "code",
   "execution_count": 21,
   "id": "1a695153",
   "metadata": {},
   "outputs": [
    {
     "data": {
      "text/plain": [
       "0.04245848313644924"
      ]
     },
     "execution_count": 21,
     "metadata": {},
     "output_type": "execute_result"
    }
   ],
   "source": [
    "# To calculate the proportion of high accident cities out of total cities\n",
    "len(high_accident_cities) / len(cities)"
   ]
  },
  {
   "cell_type": "code",
   "execution_count": 22,
   "id": "2905fd21",
   "metadata": {},
   "outputs": [
    {
     "data": {
      "text/plain": [
       "Carney                          1\n",
       "Waverly Hall                    1\n",
       "Center Sandwich                 1\n",
       "Glen Flora                      1\n",
       "Sulphur Springs                 1\n",
       "                               ..\n",
       "Ridgedale                       1\n",
       "Sekiu                           1\n",
       "Wooldridge                      1\n",
       "Bullock                         1\n",
       "American Fork-Pleasant Grove    1\n",
       "Name: City, Length: 1110, dtype: int64"
      ]
     },
     "execution_count": 22,
     "metadata": {},
     "output_type": "execute_result"
    }
   ],
   "source": [
    "# To check how many cities just reported 1 accident\n",
    "cities_by_accident[cities_by_accident == 1]"
   ]
  },
  {
   "cell_type": "code",
   "execution_count": 23,
   "id": "c8155716",
   "metadata": {},
   "outputs": [
    {
     "data": {
      "text/plain": [
       "False"
      ]
     },
     "execution_count": 23,
     "metadata": {},
     "output_type": "execute_result"
    }
   ],
   "source": [
    "# To check if New York city in the dataset\n",
    "'NY' in df.City"
   ]
  },
  {
   "cell_type": "markdown",
   "id": "f85818b2",
   "metadata": {},
   "source": [
    "### 2. Start Time"
   ]
  },
  {
   "cell_type": "code",
   "execution_count": 25,
   "id": "7e410976",
   "metadata": {},
   "outputs": [
    {
     "data": {
      "text/plain": [
       "0          2016-02-08 00:37:08\n",
       "1          2016-02-08 05:56:20\n",
       "2          2016-02-08 06:15:39\n",
       "3          2016-02-08 06:51:45\n",
       "4          2016-02-08 07:53:43\n",
       "                  ...         \n",
       "2845337    2019-08-23 18:03:25\n",
       "2845338    2019-08-23 19:11:30\n",
       "2845339    2019-08-23 19:00:21\n",
       "2845340    2019-08-23 19:00:21\n",
       "2845341    2019-08-23 18:52:06\n",
       "Name: Start_Time, Length: 2845342, dtype: object"
      ]
     },
     "execution_count": 25,
     "metadata": {},
     "output_type": "execute_result"
    }
   ],
   "source": [
    "# To check the Start_Time datatype\n",
    "df.Start_Time"
   ]
  },
  {
   "cell_type": "code",
   "execution_count": 26,
   "id": "4ab579fd",
   "metadata": {},
   "outputs": [],
   "source": [
    "# To convert the Start_Time datatype to datetime type\n",
    "df.Start_Time = pd.to_datetime(df.Start_Time)"
   ]
  },
  {
   "cell_type": "code",
   "execution_count": 27,
   "id": "0785a348",
   "metadata": {},
   "outputs": [
    {
     "data": {
      "text/plain": [
       "0           0\n",
       "1           5\n",
       "2           6\n",
       "3           6\n",
       "4           7\n",
       "           ..\n",
       "2845337    18\n",
       "2845338    19\n",
       "2845339    19\n",
       "2845340    19\n",
       "2845341    18\n",
       "Name: Start_Time, Length: 2845342, dtype: int64"
      ]
     },
     "execution_count": 27,
     "metadata": {},
     "output_type": "execute_result"
    }
   ],
   "source": [
    "# To extract hour of the day from Start_Time\n",
    "df.Start_Time.dt.hour"
   ]
  },
  {
   "cell_type": "code",
   "execution_count": 28,
   "id": "8b7c0c25",
   "metadata": {},
   "outputs": [
    {
     "data": {
      "text/plain": [
       "<AxesSubplot:xlabel='Start_Time', ylabel='Count'>"
      ]
     },
     "execution_count": 28,
     "metadata": {},
     "output_type": "execute_result"
    },
    {
     "data": {
      "image/png": "[encoded data removed]",
      "text/plain": [
       "<Figure size 640x480 with 1 Axes>"
      ]
     },
     "metadata": {},
     "output_type": "display_data"
    }
   ],
   "source": [
    "# To show the occurrence of accident by hour of day\n",
    "sns.histplot(df.Start_Time.dt.hour, bins = 24)"
   ]
  },
  {
   "cell_type": "markdown",
   "id": "eed7f8ea",
   "metadata": {},
   "source": [
    "###### Most accidents occure between 3 pm to 6 pm (probably because people in a hurry to go home)\n",
    "###### Most accidents occure between 6 am to 9 am (probably because people in a hurry to go to work)"
   ]
  },
  {
   "cell_type": "code",
   "execution_count": 29,
   "id": "dc7fc952",
   "metadata": {},
   "outputs": [
    {
     "data": {
      "text/plain": [
       "<AxesSubplot:xlabel='Start_Time', ylabel='Count'>"
      ]
     },
     "execution_count": 29,
     "metadata": {},
     "output_type": "execute_result"
    },
    {
     "data": {
      "image/png": "[encoded data removed]",
      "text/plain": [
       "<Figure size 640x480 with 1 Axes>"
      ]
     },
     "metadata": {},
     "output_type": "display_data"
    }
   ],
   "source": [
    "# To show the occurrence of accident by day of week\n",
    "# 0 = Monday, 6 = Sunday\n",
    "sns.histplot(df.Start_Time.dt.dayofweek, bins = 7)"
   ]
  },
  {
   "cell_type": "markdown",
   "id": "1bd0dd58",
   "metadata": {},
   "source": [
    "##### On weekends, the number of accidents are lower"
   ]
  },
  {
   "cell_type": "code",
   "execution_count": 30,
   "id": "b0b0db90",
   "metadata": {},
   "outputs": [
    {
     "data": {
      "text/plain": [
       "<AxesSubplot:xlabel='Start_Time', ylabel='Count'>"
      ]
     },
     "execution_count": 30,
     "metadata": {},
     "output_type": "execute_result"
    },
    {
     "data": {
      "image/png": "[encoded data removed]",
      "text/plain": [
       "<Figure size 640x480 with 1 Axes>"
      ]
     },
     "metadata": {},
     "output_type": "display_data"
    }
   ],
   "source": [
    "# To check if the distribution of accidents by hour on weekends are same as on weekdays\n",
    "sundays_start_time = df.Start_Time[df.Start_Time.dt.dayofweek == 6]\n",
    "sns.histplot(df.Start_Time.dt.hour, bins = 24)"
   ]
  },
  {
   "cell_type": "markdown",
   "id": "78e24775",
   "metadata": {},
   "source": [
    "##### On Sundays, most accidents occur during afternoon"
   ]
  },
  {
   "cell_type": "markdown",
   "id": "8fa8879c",
   "metadata": {},
   "source": [
    "### 3. Start Latitude & Longitude"
   ]
  },
  {
   "cell_type": "code",
   "execution_count": 31,
   "id": "c7baacb2",
   "metadata": {},
   "outputs": [
    {
     "data": {
      "text/plain": [
       "0          40.108910\n",
       "1          39.865420\n",
       "2          39.102660\n",
       "3          41.062130\n",
       "4          39.172393\n",
       "             ...    \n",
       "2845337    34.002480\n",
       "2845338    32.766960\n",
       "2845339    33.775450\n",
       "2845340    33.992460\n",
       "2845341    34.133930\n",
       "Name: Start_Lat, Length: 2845342, dtype: float64"
      ]
     },
     "execution_count": 31,
     "metadata": {},
     "output_type": "execute_result"
    }
   ],
   "source": [
    "df.Start_Lat"
   ]
  },
  {
   "cell_type": "code",
   "execution_count": 32,
   "id": "c9503ef5",
   "metadata": {},
   "outputs": [
    {
     "data": {
      "text/plain": [
       "0          -83.092860\n",
       "1          -84.062800\n",
       "2          -84.524680\n",
       "3          -81.537840\n",
       "4          -84.492792\n",
       "              ...    \n",
       "2845337   -117.379360\n",
       "2845338   -117.148060\n",
       "2845339   -117.847790\n",
       "2845340   -118.403020\n",
       "2845341   -117.230920\n",
       "Name: Start_Lng, Length: 2845342, dtype: float64"
      ]
     },
     "execution_count": 32,
     "metadata": {},
     "output_type": "execute_result"
    }
   ],
   "source": [
    "df.Start_Lng"
   ]
  },
  {
   "cell_type": "code",
   "execution_count": 33,
   "id": "0acc221a",
   "metadata": {},
   "outputs": [
    {
     "name": "stdout",
     "output_type": "stream",
     "text": [
      "Requirement already satisfied: folium in /Users/yanfeihu/opt/anaconda3/lib/python3.9/site-packages (0.14.0)\n",
      "Requirement already satisfied: branca>=0.6.0 in /Users/yanfeihu/opt/anaconda3/lib/python3.9/site-packages (from folium) (0.6.0)\n",
      "Requirement already satisfied: numpy in /Users/yanfeihu/opt/anaconda3/lib/python3.9/site-packages (from folium) (1.21.5)\n",
      "Requirement already satisfied: requests in /Users/yanfeihu/opt/anaconda3/lib/python3.9/site-packages (from folium) (2.28.1)\n",
      "Requirement already satisfied: jinja2>=2.9 in /Users/yanfeihu/opt/anaconda3/lib/python3.9/site-packages (from folium) (2.11.3)\n",
      "Requirement already satisfied: MarkupSafe>=0.23 in /Users/yanfeihu/opt/anaconda3/lib/python3.9/site-packages (from jinja2>=2.9->folium) (2.0.1)\n",
      "Requirement already satisfied: urllib3<1.27,>=1.21.1 in /Users/yanfeihu/opt/anaconda3/lib/python3.9/site-packages (from requests->folium) (1.26.11)\n",
      "Requirement already satisfied: certifi>=2017.4.17 in /Users/yanfeihu/opt/anaconda3/lib/python3.9/site-packages (from requests->folium) (2022.9.24)\n",
      "Requirement already satisfied: idna<4,>=2.5 in /Users/yanfeihu/opt/anaconda3/lib/python3.9/site-packages (from requests->folium) (3.3)\n",
      "Requirement already satisfied: charset-normalizer<3,>=2 in /Users/yanfeihu/opt/anaconda3/lib/python3.9/site-packages (from requests->folium) (2.0.4)\n"
     ]
    }
   ],
   "source": [
    "# To import folium to run heatmap\n",
    "!pip install folium\n",
    "import folium\n",
    "from folium.plugins import HeatMap"
   ]
  },
  {
   "cell_type": "code",
   "execution_count": 34,
   "id": "aefcf7f2",
   "metadata": {},
   "outputs": [],
   "source": [
    "# To create a sample dataframe and pair the latitude and longitude\n",
    "sample_df = df.sample(int(0.001 * len(df)))\n",
    "lat_lon_pairs = list(zip(list(sample_df.Start_Lat), list(sample_df.Start_Lng)))"
   ]
  },
  {
   "cell_type": "code",
   "execution_count": 35,
   "id": "071c9995",
   "metadata": {},
   "outputs": [
    {
     "data": {
      "text/html": [
       "<div style=\"width:100%;\"><div style=\"position:relative;width:100%;height:0;padding-bottom:60%;\"><span style=\"color:#565656\">Make this Notebook Trusted to load map: File -> Trust Notebook</span><iframe srcdoc=\"&lt;!DOCTYPE html&gt;\n",
       "&lt;html&gt;\n",
       "&lt;head&gt;\n",
       "    \n",
       "    &lt;meta http-equiv=&quot;content-type&quot; content=&quot;text/html; charset=UTF-8&quot; /&gt;\n",
       "    \n",
       "        &lt;script&gt;\n",
       "            L_NO_TOUCH = false;\n",
       "            L_DISABLE_3D = false;\n",
       "        &lt;/script&gt;\n",
       "    \n",
       "    &lt;style&gt;html, body {width: 100%;height: 100%;margin: 0;padding: 0;}&lt;/style&gt;\n",
       "    &lt;style&gt;#map {position:absolute;top:0;bottom:0;right:0;left:0;}&lt;/style&gt;\n",
       "    &lt;script src=&quot;https://cdn.jsdelivr.net/npm/leaflet@1.9.3/dist/leaflet.js&quot;&gt;&lt;/script&gt;\n",
       "    &lt;script src=&quot;https://code.jquery.com/jquery-1.12.4.min.js&quot;&gt;&lt;/script&gt;\n",
       "    &lt;script src=&quot;https://cdn.jsdelivr.net/npm/bootstrap@5.2.2/dist/js/bootstrap.bundle.min.js&quot;&gt;&lt;/script&gt;\n",
       "    &lt;script src=&quot;https://cdnjs.cloudflare.com/ajax/libs/Leaflet.awesome-markers/2.0.2/leaflet.awesome-markers.js&quot;&gt;&lt;/script&gt;\n",
       "    &lt;link rel=&quot;stylesheet&quot; href=&quot;https://cdn.jsdelivr.net/npm/leaflet@1.9.3/dist/leaflet.css&quot;/&gt;\n",
       "    &lt;link rel=&quot;stylesheet&quot; href=&quot;https://cdn.jsdelivr.net/npm/bootstrap@5.2.2/dist/css/bootstrap.min.css&quot;/&gt;\n",
       "    &lt;link rel=&quot;stylesheet&quot; href=&quot;https://netdna.bootstrapcdn.com/bootstrap/3.0.0/css/bootstrap.min.css&quot;/&gt;\n",
       "    &lt;link rel=&quot;stylesheet&quot; href=&quot;https://cdn.jsdelivr.net/npm/@fortawesome/fontawesome-free@6.2.0/css/all.min.css&quot;/&gt;\n",
       "    &lt;link rel=&quot;stylesheet&quot; href=&quot;https://cdnjs.cloudflare.com/ajax/libs/Leaflet.awesome-markers/2.0.2/leaflet.awesome-markers.css&quot;/&gt;\n",
       "    &lt;link rel=&quot;stylesheet&quot; href=&quot;https://cdn.jsdelivr.net/gh/python-visualization/folium/folium/templates/leaflet.awesome.rotate.min.css&quot;/&gt;\n",
       "    \n",
       "            &lt;meta name=&quot;viewport&quot; content=&quot;width=device-width,\n",
       "                initial-scale=1.0, maximum-scale=1.0, user-scalable=no&quot; /&gt;\n",
       "            &lt;style&gt;\n",
       "                #map_5c3bfd38e3ca947e17f5e892bd5650d1 {\n",
       "                    position: relative;\n",
       "                    width: 100.0%;\n",
       "                    height: 100.0%;\n",
       "                    left: 0.0%;\n",
       "                    top: 0.0%;\n",
       "                }\n",
       "                .leaflet-container { font-size: 1rem; }\n",
       "            &lt;/style&gt;\n",
       "        \n",
       "    &lt;script src=&quot;https://cdn.jsdelivr.net/gh/python-visualization/folium@main/folium/templates/leaflet_heat.min.js&quot;&gt;&lt;/script&gt;\n",
       "&lt;/head&gt;\n",
       "&lt;body&gt;\n",
       "    \n",
       "    \n",
       "            &lt;div class=&quot;folium-map&quot; id=&quot;map_5c3bfd38e3ca947e17f5e892bd5650d1&quot; &gt;&lt;/div&gt;\n",
       "        \n",
       "&lt;/body&gt;\n",
       "&lt;script&gt;\n",
       "    \n",
       "    \n",
       "            var map_5c3bfd38e3ca947e17f5e892bd5650d1 = L.map(\n",
       "                &quot;map_5c3bfd38e3ca947e17f5e892bd5650d1&quot;,\n",
       "                {\n",
       "                    center: [0, 0],\n",
       "                    crs: L.CRS.EPSG3857,\n",
       "                    zoom: 1,\n",
       "                    zoomControl: true,\n",
       "                    preferCanvas: false,\n",
       "                }\n",
       "            );\n",
       "\n",
       "            \n",
       "\n",
       "        \n",
       "    \n",
       "            var tile_layer_dedcd002a7985b7a14a693cc14deec38 = L.tileLayer(\n",
       "                &quot;https://{s}.tile.openstreetmap.org/{z}/{x}/{y}.png&quot;,\n",
       "                {&quot;attribution&quot;: &quot;Data by \\u0026copy; \\u003ca target=\\&quot;_blank\\&quot; href=\\&quot;http://openstreetmap.org\\&quot;\\u003eOpenStreetMap\\u003c/a\\u003e, under \\u003ca target=\\&quot;_blank\\&quot; href=\\&quot;http://www.openstreetmap.org/copyright\\&quot;\\u003eODbL\\u003c/a\\u003e.&quot;, &quot;detectRetina&quot;: false, &quot;maxNativeZoom&quot;: 18, &quot;maxZoom&quot;: 18, &quot;minZoom&quot;: 0, &quot;noWrap&quot;: false, &quot;opacity&quot;: 1, &quot;subdomains&quot;: &quot;abc&quot;, &quot;tms&quot;: false}\n",
       "            ).addTo(map_5c3bfd38e3ca947e17f5e892bd5650d1);\n",
       "        \n",
       "    \n",
       "            var heat_map_1a71c66c4922fc1a3b7ede1db2457571 = L.heatLayer(\n",
       "                [[42.489484, -83.422397], [37.77409, -121.382511], [39.37565, -76.45211], [32.87535, -117.19774], [41.67825, -83.56163000000002], [38.566206, -121.470454], [44.88267800000001, -93.024558], [37.471363, -122.21036200000002], [37.91249000000001, -122.06706], [29.863739, -81.344131], [36.107746, -86.676749], [45.513841, -92.958235], [37.721869, -121.514208], [43.183301, -77.570481], [34.068028000000005, -117.60353], [39.338747, -77.508319], [37.874497, -122.306016], [35.090108, -118.977953], [25.675159, -80.459159], [41.77947, -87.907664], [41.035362, -80.405322], [40.690445, -73.726623], [40.170339, -74.103137], [36.179952, -86.774091], [38.762901, -77.085352], [34.135114, -117.607846], [34.856223, -82.25350999999998], [44.858937, -93.531197], [24.64337, -81.569654], [34.493015, -118.459118], [28.436917, -81.404464], [44.86165, -93.27828], [25.702455, -80.332105], [28.549431, -81.244421], [37.377116, -122.065017], [33.836531, -117.331097], [39.01945900000001, -77.380643], [38.452831, -121.395807], [33.803944, -118.208918], [39.625428, -77.603768], [36.988927, -122.026899], [32.674852, -97.044246], [34.081632, -117.702817], [38.343351, -121.335512], [41.714175, -73.78286], [39.704967, -76.646867], [34.02202800000001, -117.990406], [37.375816, -118.394914], [30.65203, -87.75690999999998], [26.547072, -81.80981], [41.550153, -72.81466800000003], [40.75193, -111.91062], [37.706545, -121.07804], [34.14687, -118.16117], [30.35257600000001, -91.133846], [34.801312, -82.28053100000002], [43.595606, -123.242472], [41.315943, -74.115883], [36.874386, -76.20184300000003], [35.229914, -80.868047], [25.78084, -80.19989], [46.885432, -99.117268], [38.653981, -121.369202], [28.608456, -81.307974], [46.826197, -123.145147], [34.120714, -117.872639], [40.188047, -75.29221700000002], [40.334769, -75.93956999999997], [32.816708, -96.867655], [45.06724000000001, -93.18588], [26.517582, -81.840479], [40.180335, -75.086527], [43.93482, -123.01014], [39.91335, -104.98991], [40.455782, -79.992191], [33.91377, -118.107753], [32.24811, -110.85008], [37.701947, -121.911843], [42.154272, -75.102721], [28.354545, -81.463339], [33.68543, -85.15809], [44.890648, -93.268719], [32.58016, -117.08581], [30.201576, -97.683492], [40.761111, -73.623987], [34.164508000000005, -81.285878], [38.022043, -121.960205], [27.94990300000001, -82.52500500000002], [35.27433900000001, -80.835921], [40.150454, -75.859802], [32.306162, -84.000555], [40.7145, -111.82831000000002], [43.430017, -121.715021], [36.055914, -86.34916899999996], [33.956803, -118.087846], [45.54065900000001, -122.671666], [35.383037, -119.044364], [44.94873, -93.04086], [42.52142, -83.0076], [42.378673, -83.23441600000002], [33.69891, -84.26978000000003], [37.77304, -122.40657], [37.889399, -121.61508700000002], [32.851116999999995, -96.775211], [33.3857, -111.926644], [44.96439, -93.240655], [44.650963, -117.906767], [30.4411, -91.0122], [37.558814, -77.420691], [39.201461, -120.81263], [36.01033, -79.83851999999997], [43.148385, -75.67501899999998], [34.122965, -117.907911], [32.844815999999994, -117.119279], [37.753134, -122.40282], [37.551253, -120.947898], [44.45645, -89.51856], [30.009333, -90.022689], [44.050871, -122.851183], [40.700179, -73.80883399999998], [35.827868, -78.63440600000001], [41.769639, -72.668238], [39.60945200000001, -77.729517], [32.993327, -117.25633899999998], [28.65084, -82.446683], [35.348509, -118.985437], [34.27783, -118.50794], [38.019114, -121.933869], [38.98288, -77.167989], [45.645609, -120.968663], [41.31943, -72.34334], [40.017281, -77.529476], [36.632738, -120.451437], [36.924656, -121.54711], [41.569751, -87.40012800000002], [32.778478, -96.911995], [37.216731, -77.392732], [33.908781, -118.170566], [45.12271, -93.31532], [44.39414, -122.173743], [36.288261, -119.242971], [30.639251, -81.458455], [44.022609, -121.31885], [37.60577, -77.51831999999997], [38.865599, -77.054386], [41.08541, -111.98747], [38.81942, -77.13056999999998], [39.016382, -77.375434], [47.993348, -101.291116], [43.600316, -116.24356], [33.157949, -117.207208], [35.077983, -89.91184100000002], [33.930169, -118.368254], [41.68468, -83.56822], [33.98887, -118.065043], [38.623111, -121.266533], [33.684, -84.40834100000002], [28.395531, -81.50546700000002], [33.575731, -117.712143], [36.8632, -76.30741], [32.817545, -96.871211], [39.3527, -120.149282], [34.143692, -81.233203], [41.7257, -73.842333], [45.53277, -122.63261], [33.845143, -81.312977], [45.56612, -122.55657], [37.311412, -121.067527], [39.936984, -75.199022], [41.354174, -75.373436], [44.26198, -94.02667], [34.04122, -118.0596], [26.186973, -80.151938], [33.396856, -84.74903499999998], [33.49703, -117.14845], [25.685671, -80.365941], [32.82633, -96.78401], [32.682641, -97.397049], [45.200871, -123.139397], [33.87673, -118.18597], [41.701938, -88.448394], [36.06087, -95.86853], [45.713456, -110.411728], [40.62404, -111.95782], [25.76091, -80.383138], [39.094986, -77.52859699999998], [38.80252, -77.10923000000003], [35.144866, -90.022562], [44.94903, -95.51434], [30.257609, -97.750528], [44.810236, -117.359177], [36.95971, -76.410791], [34.241658, -117.281045], [32.817577, -96.810349], [36.086646, -93.740665], [41.310357, -110.516015], [40.124477, -77.76480500000002], [45.01064, -93.08536], [26.579522, -81.87181], [42.741169, -73.912908], [33.89687, -117.48114], [42.003673, -87.890316], [25.699599, -80.382101], [34.011038, -118.261805], [26.494272, -81.93180699999998], [42.31758, -87.9059], [34.03303, -118.27448], [44.446337, -118.786148], [43.173228, -123.369539], [38.450569, -121.573755], [34.065835, -117.282268], [36.76387800000001, -76.59566600000002], [28.41395300000001, -81.423053], [44.588371, -123.23151599999998], [30.493623, -91.255513], [40.301209, -76.870597], [25.890198, -80.188048], [43.41001, -123.33018], [37.49745, -77.54502], [33.901289, -117.468628], [39.26744, -76.66313000000002], [34.154354, -118.322273], [29.941681, -90.081912], [38.024626, -121.337418], [37.795072, -121.278341], [29.436675, -81.169105], [38.870089, -77.04619], [33.687204, -117.87893400000002], [34.10812, -118.18558], [41.88309, -87.91926], [35.906935, -86.500736], [34.111155, -118.180279], [40.438385, -76.117952], [33.928307000000004, -118.368258], [28.450272, -81.407426], [28.536578, -81.383204], [42.201439, -76.318096], [36.745702, -119.821326], [42.67987, -83.76024], [33.964823, -84.523154], [41.36527, -81.51599], [36.06864, -119.039322], [38.073109, -122.801551], [45.411418, -122.793513], [47.429362, -123.125227], [44.9488, -95.45259], [32.67781, -97.12], [37.54656, -122.02296], [29.778946, -95.96108], [43.674518, -84.013357], [38.88153, -104.83584], [38.090519, -120.476054], [39.98935, -75.20638000000002], [32.910815, -96.818505], [32.77387, -96.91614], [40.138685, -75.30815600000003], [35.098916, -81.119185], [38.93779, -92.68758], [41.11705, -73.498491], [42.283769, -84.810601], [38.941673, -94.852985], [46.962722, -94.219812], [33.629232, -84.456305], [42.96975, -85.669015], [44.97085, -93.36094], [39.09183, -94.63114], [41.798086, -124.084018], [37.623973, -122.079115], [39.1273, -94.49773], [36.060307, -78.696444], [33.941026, -118.279677], [27.95635, -82.4595], [45.473796, -112.713986], [35.945605, -78.54231], [42.425428, -83.093848], [44.3083, -93.97034], [29.54701, -98.489202], [39.09917, -84.49231], [45.03712700000001, -93.011977], [29.78514, -95.67031], [27.006357, -80.208488], [40.493563, -111.890955], [33.462086, -112.019653], [29.73147800000001, -95.468915], [40.75842, -73.4758], [40.206302, -75.23091099999998], [38.951519, -94.53092], [38.684845, -121.271504], [44.739929, -123.22308], [38.27163, -104.60469], [34.775807, -118.347862], [38.595131, -121.44434], [44.198888, -120.649312], [37.669411, -122.392984], [34.238711, -118.416173], [30.179631, -81.55283299999998], [41.46606, -81.77328], [35.011748, -81.103301], [39.025415, -76.436091], [39.03699, -94.68329], [29.743929, -95.467024], [34.128727000000005, -117.921746], [36.07909, -79.229031], [45.97562, -94.34004], [33.601865999999994, -112.009359], [29.76722, -95.34529], [33.941186, -117.237944], [30.443517, -97.770056], [39.83565, -84.63409], [36.207336, -119.564651], [44.878224, -93.436909], [45.700131, -111.144658], [25.510691, -80.412598], [45.822011, -119.553769], [28.55198, -81.477519], [42.862967, -73.781684], [38.24477, -122.446027], [33.902682, -84.273709], [38.67938, -121.271654], [37.02747700000001, -121.52733899999998], [42.968569, -83.725486], [34.08747, -117.64564], [35.262892, -118.914452], [38.314835, -79.087335], [42.706705, -73.85542099999998], [40.03977, -76.36513000000002], [41.89314, -87.63709], [33.702117, -117.85827], [34.107011, -117.302367], [33.73986, -117.831017], [40.717333, -73.831211], [34.170777, -119.142508], [30.41348300000001, -91.099257], [40.263844, -77.055465], [30.42372, -86.60939], [40.834046, -73.949833], [39.778994, -75.04865600000002], [27.388990000000003, -82.50562], [40.78125, -73.94422], [34.272783000000004, -117.315155], [36.590497, -119.610661], [38.295117, -77.519446], [35.718591, -78.654646], [37.68922, -122.10373], [40.110891, -76.283632], [40.129613, -75.54691600000002], [28.546440000000004, -81.38233000000002], [35.171013, -80.807859], [29.682983, -82.533914], [34.069959999999995, -117.96287], [38.674353, -121.741272], [39.91664, -77.91046999999998], [33.935353000000006, -118.086464], [34.0137, -118.17226], [45.567107, -118.788509], [39.104558, -94.571417], [25.909736, -80.293307], [40.860037, -73.915251], [34.739896, -81.545194], [41.574879, -122.280498], [25.596091, -80.355253], [39.51903400000001, -94.786766], [41.400271, -72.84571700000002], [25.88984, -80.32374], [37.196929, -93.308125], [34.027322, -118.23302], [29.870827, -95.332055], [34.035090999999994, -118.136187], [41.504749, -73.14560999999998], [41.409607, -73.78683000000002], [29.713403000000003, -95.296705], [33.943233, -118.280123], [34.068028000000005, -117.60353], [34.433820000000004, -118.38894], [35.618024, -78.732734], [30.319716, -87.423505], [34.120434, -117.731219], [37.561622, -122.276383], [34.035712, -118.170145], [33.745059999999995, -84.42693], [38.06807, -122.12812], [33.787689, -78.77333399999998], [36.934612, -121.709832], [39.001858, -77.040228], [30.355003000000004, -97.6828], [47.300251, -122.180081], [42.421656, -82.930887], [35.049183, -85.249172], [30.44469, -91.13146], [36.103394, -86.741376], [33.987523, -117.891269], [39.93176, -82.91274], [30.546618, -84.176384], [35.091473, -85.317492], [37.544978, -77.55338], [33.876391, -118.1589], [45.689338, -120.49576100000002], [40.811998, -74.059345], [39.573794, -86.618946], [34.739258, -92.372334], [33.73726, -117.82309], [33.86864, -118.33868], [37.166685, -122.36111], [25.682933, -80.4005], [35.654001, -120.694756], [33.79661, -79.076952], [38.940707, -77.133625], [35.02367, -80.9675], [40.47917800000001, -104.500029], [41.87289000000001, -87.73519], [36.169835, -86.76355500000004], [34.42213, -91.715657], [32.788011, -117.160493], [35.075521, -120.521014], [37.987967, -121.194547], [36.909406, -120.010376], [39.793263, -121.89863], [36.489098, -87.164262], [40.80966, -73.90284], [33.75165, -84.37988], [35.162882, -80.876029], [34.054702, -117.685109], [33.763559, -117.920209], [39.829749, -105.003116], [38.588841, -121.50411], [33.974758, -118.251975], [37.126264, -79.311213], [29.776879, -95.384017], [28.310168, -81.667653], [29.710614, -95.493096], [33.56797, -112.06521], [34.054516, -118.210154], [34.406182, -118.750635], [26.330713, -81.798514], [34.07438, -117.99875], [39.933446, -111.200019], [37.648039, -77.591693], [32.335583, -110.995068], [34.770489000000005, -92.344796], [36.800945, -76.763191], [37.405479, -121.877763], [36.277779, -86.734545], [44.948651, -92.947235], [35.1048, -80.70295], [33.993369, -118.069134], [33.461220000000004, -112.28853], [30.227124, -97.70384], [39.957014, -75.15545], [42.51664, -70.9991], [41.0992, -73.79649], [39.879221, -75.10271], [39.698395, -86.137918], [35.01547, -85.25375], [35.041453999999995, -85.223778], [38.441585, -120.076075], [38.844405, -77.049146], [34.187228999999995, -119.142337], [28.369864, -81.309589], [44.03220200000001, -123.849479], [38.684015, -121.469251], [45.02653, -92.96024], [42.160314, -88.048896], [30.507155, -87.161847], [27.221395, -82.460714], [34.27783, -118.50794], [44.813693, -93.398412], [41.320635, -74.090176], [37.299241, -120.69912], [40.67716400000001, -73.97244599999998], [34.146481, -118.78107], [26.547517, -81.78493399999998], [32.9482, -117.10599], [33.393738, -117.210001], [44.095001, -91.891276], [40.72572, -111.91687], [35.089866, -85.060673], [44.91331, -93.50316], [36.76087, -121.752236], [26.5143, -81.89869], [40.02067, -75.62264], [41.307231, -74.12807099999998], [33.99051, -117.923945], [34.666231, -92.390974], [25.688223, -80.330398], [36.151832, -86.752821], [47.48859, -122.165503], [34.029428, -117.329795], [33.79681, -118.10792], [45.589697, -121.122603], [40.19478400000001, -121.121448], [44.975119, -93.28621], [34.137471000000005, -117.326742], [36.89451500000001, -119.798594], [34.06792, -118.03531], [29.97565, -90.05753299999998], [47.688841, -114.06306399999998], [37.667115, -77.446533], [34.787124, -82.28110600000002], [28.174673, -82.74815100000002], [34.219567, -118.35666], [35.384061, -118.957944], [41.93143, -87.93966999999998], [40.64728, -74.20296], [33.193956, -87.24445899999998], [32.850722999999995, -96.683224], [37.347121, -121.859351], [25.925464, -80.29233], [37.671023, -122.131476], [40.813986, -73.8366], [38.956211, -77.141178], [41.055339, -73.52084], [35.192459, -90.003186], [39.3606, -76.7625], [37.881746, -122.307966], [45.130816, -93.488089], [35.792441, -78.84716800000002], [37.33453, -122.02868], [33.95278, -118.043289], [40.49577100000001, -80.067022], [39.056286, -94.484176], [33.763896, -117.831105], [28.47112000000001, -81.39655], [40.686891, -73.614587], [37.57209, -77.44528000000003], [28.451602, -81.477678], [41.56961, -87.37576], [33.97862, -117.54904], [44.126468, -121.321603], [39.653402, -77.74780799999998], [39.023705, -76.94556999999998], [34.207895, -118.218673], [37.8661, -122.20694], [46.88981, -122.35904], [40.03763, -85.72200000000002], [40.717553, -74.33124000000002], [33.957474, -118.087337], [44.950691, -93.102168], [44.776478, -93.520192], [37.083669, -121.100813], [40.031337, -75.021591], [33.853735, -117.908816], [36.105406, -96.014037], [35.189294, -80.772574], [41.95238, -87.72841], [29.18234600000001, -82.18464499999997], [27.97178, -82.45359], [40.683719, -73.96797099999998], [34.621514000000005, -120.428684], [33.54647, -117.59648], [36.184021, -86.77551600000002], [35.266875, -118.949865], [46.679865, -112.010786], [39.673016, -105.97088], [30.836337, -87.142084], [25.879999, -80.243026], [35.620712, -78.856887], [25.880906, -80.226609], [33.49483, -112.03021], [45.50275, -122.6733], [37.189718, -121.99248500000002], [29.86156, -97.66848], [38.440786, -81.832813], [27.29876, -82.48098], [35.27626, -80.72768], [40.11461, -75.349638], [41.408464, -74.345903], [39.10245, -76.87496999999998], [41.188887, -79.22742099999998], [43.02071, -87.97019], [34.2353, -118.41266], [40.84609, -73.930366], [29.67781, -95.42791], [25.946178, -80.205325], [34.071740000000005, -117.8772], [44.783125, -93.430375], [37.40607, -76.468193], [37.37694000000001, -77.42430999999998], [30.220640000000003, -97.765359], [33.85235, -117.88198], [28.054649, -82.45469399999998], [27.601372, -82.513113], [41.81096, -88.1674], [36.30028, -119.74473], [35.391323, -78.51912], [26.556904, -80.070035], [39.96819, -77.57538000000002], [28.552398, -81.448211], [37.41315, -121.98333999999998], [34.64267, -82.489891], [38.527947, -121.469103], [40.803, -73.44485999999998], [30.427032, -81.65649499999998], [35.801149, -78.68379200000003], [37.739335, -121.59082], [35.43424500000001, -83.07821899999998], [34.135466, -117.965352], [37.51805, -77.44868000000002], [26.142122, -80.169415], [38.220673, -122.132252], [28.59736, -81.245926], [40.322971, -75.325805], [33.94088, -117.25229], [44.75613, -123.05004], [33.854107, -117.919957], [37.303507, -122.035392], [32.810966, -96.806691], [25.642258, -80.334766], [34.145239000000004, -117.283118], [45.493644, -122.67365], [45.06047, -93.15145], [42.465614, -87.96955200000002], [34.07375, -80.99965999999998], [47.90703, -122.21092], [34.02902, -118.39637], [38.481607, -121.408674], [33.902101, -118.265363], [33.71632, -84.128576], [41.17804, -73.17572], [36.705465, -120.151311], [45.634565, -108.918603], [33.021148, -117.273316], [34.154598, -118.379003], [30.511368, -87.26995500000002], [30.36753, -81.76085], [28.546419, -81.285862], [32.88193, -96.94925], [33.83945, -118.26333], [39.312096, -119.824608], [37.93784, -77.46735600000002], [37.55008, -122.05479], [33.8242, -84.14938000000002], [41.802238, -124.054173], [26.168521, -81.084583], [40.225535, -75.256727], [41.87339, -71.38517], [33.50954, -112.108438], [38.85155200000001, -111.307503], [38.216688, -122.234624], [34.160073, -118.469604], [32.240571, -110.971832], [34.081622, -117.719253], [35.47861, -97.45915], [32.703795, -96.840165], [30.006678000000004, -90.083559], [40.778481, -74.048445], [38.42706, -122.71496], [34.046886, -117.807389], [28.449908, -81.34533499999998], [37.974341, -120.653608], [32.902207000000004, -96.811845], [39.73537, -84.08758], [36.608145, -114.484091], [33.449290000000005, -94.09685], [33.931721, -118.101445], [36.77868, -120.06026], [37.667881, -121.035357], [38.793456, -77.046256], [33.596342, -112.15461299999998], [29.725173, -95.375277], [37.587457, -118.783997], [27.995690000000003, -82.32628000000003], [37.340457, -120.591468], [48.96386, -122.307579], [36.491594, -121.744366], [41.064456, -73.80633900000002], [34.176003, -79.810748], [44.951829, -93.176429], [34.932528999999995, -120.568333], [34.184706, -117.1812], [42.908917, -85.530227], [33.96573, -118.242116], [34.014498, -118.128948], [32.977179, -80.249146], [34.22472, -117.299381], [45.037118, -93.022702], [32.293278, -80.98939200000002], [39.17462, -77.53749], [38.189581, -85.771712], [34.082126, -118.295648], [26.15889, -81.68056], [40.760451, -111.888298], [28.493762, -81.483538], [34.23913, -118.47313], [37.80728, -121.99105], [36.089852, -95.940299], [33.987590000000004, -118.399076], [42.487867, -83.218937], [37.798572, -122.274828], [27.044903, -82.40570100000002], [44.629724, -123.07305], [40.903739, -73.878564], [41.01736, -111.90931], [25.809384, -80.323373], [38.553999, -121.470662], [42.94282000000001, -85.71215], [32.359589, -95.314722], [34.459336, -118.615361], [36.01134000000001, -119.303287], [46.842739, -94.475991], [40.491668, -74.30082900000002], [34.06235, -117.986843], [30.445485, -86.63851700000002], [32.907539, -96.729617], [33.956818, -117.306745], [41.87688, -88.23516], [41.251843, -111.980897], [37.086362, -77.557484], [25.594222, -80.376703], [39.748211, -84.141368], [32.778945, -117.101629], [42.57096, -82.871579], [40.22707800000001, -76.793234], [33.794835, -117.230247], [37.240465, -121.78128999999998], [42.99897, -85.63993], [40.82368, -73.87745], [25.677205, -80.465574], [33.63667, -80.87706], [40.78121, -73.56371999999998], [38.648062, -77.307034], [27.400749, -80.396951], [34.844134999999994, -82.648901], [28.428665, -81.406997], [41.781588, -72.662621], [39.555251, -76.32830899999998], [33.649642, -117.1713], [32.903621, -96.723063], [28.441701, -81.468005], [35.693067, -119.710153], [28.611993, -81.206597], [41.85757, -87.64439], [39.374245, -76.75035600000002], [39.817174, -123.274214], [32.928604, -96.760141], [26.546554, -81.842427], [30.141581, -81.508437], [41.78004, -87.62535], [33.876937, -118.156453], [44.52085, -124.07006], [39.16161, -84.51375], [33.86995, -117.54455], [29.15217, -81.10761600000002], [37.765059, -121.377912], [36.603617, -120.127577], [42.33662, -88.02901], [30.459574, -91.009498], [29.869797, -95.401734], [42.384631, -87.96333], [25.982032, -80.16583299999998], [35.012659, -81.963769], [33.766090000000005, -84.49851], [46.264336, -112.203306], [33.779436, -117.87738799999998], [25.910063, -80.210076], [42.30327, -88.07585], [38.93639, -94.45115], [34.068321000000005, -117.37949], [29.652044, -82.37365799999998], [34.136520000000004, -117.427975], [34.222631, -117.402969], [37.68875, -122.135372], [32.367494, -86.325462], [44.31918, -94.725869], [43.976908, -92.463415], [34.081699, -117.71548], [32.93233, -117.11242], [41.536549, -122.235764], [38.090962, -85.869709], [28.07219000000001, -80.705], [30.476440000000004, -91.112767], [40.72457, -112.22189], [25.858705, -80.250405], [32.493665, -85.623754], [28.535175, -81.385202], [33.785737, -84.387811], [30.435523, -84.29156], [46.71023, -92.275032], [41.582301, -112.072697], [39.76164, -86.16734], [45.08273, -93.402274], [38.827847, -77.455587], [28.43727800000001, -81.367473], [41.290301, -72.566725], [45.90388, -95.52515], [34.278796, -118.397367], [32.662149, -96.89642], [44.64563, -93.29619], [32.922386, -97.066744], [40.66754, -73.77433], [36.77617100000001, -119.785129], [35.047462, -82.50920699999998], [42.31174, -83.09541999999998], [36.1512, -86.85363000000002], [34.044468, -118.090545], [32.733202, -96.678616], [37.90691, -122.31503], [43.948504, -122.882982], [33.931456, -118.36849], [32.724248, -117.152763], [37.631484, -122.084465], [26.09093, -80.201236], [39.382413, -76.446057], [34.186646, -118.474262], [39.758319, -105.14377], [39.86727, -74.89461], [36.758185, -76.299566], [34.04569, -118.21552], [37.565807, -120.966239], [28.226376, -82.14721], [33.97286, -118.07419], [34.156918, -118.448685], [42.96232, -87.93866], [40.0001, -75.228714], [42.73978, -73.68349599999998], [34.392751000000004, -81.08989], [40.6735, -73.513931], [33.45642, -111.97651], [32.250743, -110.879833], [40.01396, -75.722853], [39.786869, -86.134968], [38.25539000000001, -122.34248], [33.620470000000005, -112.116476], [33.938213, -117.400882], [38.874026, -76.843941], [47.40771, -122.22025], [26.75390800000001, -80.909811], [34.60455, -117.822767], [32.655294, -96.715609], [38.379331, -75.174132], [40.141564, -75.806962], [34.01670900000001, -118.041768], [45.53968, -122.45665], [35.486193, -82.52525200000002], [38.46790900000001, -122.728346], [30.434976, -85.695358], [43.039551, -77.539733], [41.03674, -73.67549], [29.628456, -95.419579], [39.99935, -75.23044], [42.26937, -83.214], [39.058138, -120.999608], [37.534772, -122.076909], [45.029064, -93.400665], [28.753699, -81.936796], [25.953918, -80.281375], [38.630858, -90.344127], [25.972312, -80.252476], [47.563507, -122.32111100000002], [45.069361, -93.278914], [38.091437, -90.48401], [38.275476, -122.047709], [41.156963, -112.024444], [47.63895, -122.32261], [34.030694, -117.600399], [32.261108, -110.99813600000002], [38.712367, -121.084718], [41.95203, -73.75314], [38.653986, -121.36794], [25.62759800000001, -80.382368], [39.86598, -84.18038], [34.924129, -81.987273], [31.75875, -106.35586], [40.507918, -111.89132], [32.785385, -117.145446], [30.390769, -97.578495], [35.190186, -113.37088], [39.102262, -94.593984], [33.49486, -112.11344], [40.71442, -73.952611], [25.772567, -80.312324], [40.64389600000001, -74.658301], [37.686673, -79.486228], [39.005653, -122.056042], [37.321326, -121.834496], [33.88476, -84.46937], [40.217867, -75.54186], [25.796996, -80.334137], [37.354805, -121.866671], [33.786941, -78.993716], [34.041933, -118.232609], [33.912956, -118.17988], [36.688617, -76.347287], [34.08599, -118.21589], [37.606717, -122.066779], [41.06685, -81.57415], [45.66047, -110.952194], [43.089856, -89.07998], [38.387569, -81.76824], [43.141681, -77.62252], [38.2236, -122.61182], [33.888662, -117.811382], [26.546714, -81.83574], [37.798676, -121.179945], [36.77480300000001, -119.749098], [33.92889, -118.29043], [25.747524, -80.33769000000002], [29.39676, -98.51372], [27.860555, -82.326705], [45.4105, -93.90523], [34.145523, -117.29848], [32.83504, -96.63243], [25.78688, -80.21149], [28.493325, -81.396765], [40.279069, -78.861929], [27.838781, -82.787139], [39.734971, -86.137107], [32.791417, -96.755262], [40.184506, -75.538024], [25.904649, -80.24203299999998], [33.989208000000005, -118.062964], [25.70207000000001, -80.341286], [35.843401, -78.681826], [34.320741, -117.460402], [34.047333, -81.102824], [25.92478, -80.154122], [39.19451, -84.47558000000002], [38.54379, -113.71287], [27.044053, -80.23955600000002], [35.164190000000005, -89.86462], [32.903968, -96.768862], [36.968753, -76.416285], [42.059422, -87.868036], [41.751625, -124.202718], [39.73371, -84.20518], [42.811371, -73.95053], [38.79492, -77.14371], [34.091359000000004, -119.065757], [35.378831, -119.04455], [25.579694, -80.478109], [25.879752, -80.208912], [41.040254, -73.581973], [32.728314000000005, -117.168815], [37.863905, -122.303047], [42.44442, -71.33954], [44.969991, -93.312453], [35.359115, -118.932005], [33.941, -117.25483], [38.903692, -77.943931], [28.800943, -81.587924], [27.755617, -82.67318399999998], [34.018867, -118.188943], [34.051361, -118.213912], [41.79485, -87.81729], [34.014516, -118.129028], [38.882342, -77.019213], [33.162689, -80.19161700000002], [38.020367, -122.255678], [29.337048, -81.132793], [33.712724, -117.08412], [35.36556500000001, -80.826605], [32.865357, -79.998655], [42.38475, -83.4284], [37.618434, -120.984997], [33.767952, -117.920275], [34.119886, -117.794411], [37.47018, -121.90886], [33.411517, -112.16926], [40.807975, -74.139872], [45.022328, -93.400869], [47.469831, -122.206088], [37.24304, -121.809293], [37.48374, -122.216927], [39.769358, -77.72065699999997], [34.734022, -92.26168], [37.164348, -121.990403], [30.462408, -97.504902], [44.95055, -92.933596], [32.955919, -96.912586], [34.14496, -81.23552], [36.600258, -119.655881], [40.899625, -124.020528], [40.729037, -74.13487099999998], [32.778688, -96.873894], [38.252853, -77.162562], [33.78247, -78.98937], [33.953454, -118.036836], [42.971708, -82.68725], [34.07239000000001, -117.92249], [28.453644, -81.399952], [36.842405, -121.457708], [34.066422, -117.990881], [40.75573, -73.21297], [42.984848, -71.471209], [32.291083, -80.937957], [37.803888, -122.301972], [37.821924, -122.259336], [36.14052, -86.72365], [29.253332, -81.071652], [33.871263, -98.578079], [39.75175, -86.26474], [33.91685, -117.287415], [41.587345, -87.680704], [38.91904, -76.932168], [33.894853000000005, -98.527481], [37.897394, -122.081878], [40.5935, -111.9027], [30.337234, -97.718545], [41.642678, -86.994348], [32.284177, -93.958764], [33.624843, -117.717585], [36.702203, -121.666421], [37.690905, -122.077707], [37.334702, -80.804932], [40.727981, -73.886414], [42.993188, -83.6536], [36.77336, -76.8485], [45.33234, -93.73175], [38.014992, -121.878816], [25.787806, -80.209638], [25.898706, -80.201142], [33.917874, -118.178869], [35.80405, -78.64591], [36.224085, -119.091707], [39.587098, -77.815421], [25.810883, -80.20588599999998], [39.738031, -86.042722], [45.366786, -122.596489], [40.63582, -111.90506], [45.317083, -118.270475], [39.611569, -111.861771], [32.28825, -90.23149], [37.680176, -122.032904], [34.000129, -117.550511], [36.97927, -121.991788], [39.534308, -119.774334], [30.272563, -97.703962], [28.44992, -81.479424], [40.82361, -73.87876], [33.627222, -117.101237], [34.186695, -118.47314], [34.073738, -80.999217], [33.751054, -117.845706], [34.055653, -118.451875], [36.068496, -95.915043], [32.855783, -96.556187], [45.06869, -93.25868], [25.869346, -80.343154], [36.023431, -78.914661], [34.21347, -84.49103000000002], [44.951645, -93.141821], [35.003762, -90.002792], [42.930911, -74.290977], [34.038270000000004, -118.221432], [33.995851, -117.870179], [35.81163, -78.60274], [25.988148, -80.165745], [38.25617800000001, -119.224675], [42.0112, -70.72646999999998], [35.223464, -120.691716], [42.711877, -84.505278], [36.05096, -79.73855], [39.467493, -76.837338], [37.118198, -76.448929], [36.370417, -120.335956], [28.332797, -81.493606], [41.83665, -88.00628], [38.45378, -120.87271], [36.923707, -120.024572], [32.481789, -93.758596], [34.07826, -118.21985], [33.931459999999994, -118.39073], [28.096327, -82.451992], [33.011051, -117.080086], [40.871062, -77.183521], [30.312069, -81.650488], [44.02449, -121.31851], [25.739899, -80.237764], [45.90124, -123.86727], [34.139654, -80.75461899999998], [41.23142100000001, -77.032474], [43.091095, -75.210138], [25.783119, -80.368572], [37.86497, -121.66731], [34.075340000000004, -118.23178], [37.99243, -122.30687], [34.030739000000004, -81.092479], [33.92635, -118.254236], [40.587722, -111.920877], [40.131917, -74.065768], [42.3756, -83.06103], [34.670635, -80.678688], [36.814337, -76.43153000000002], [44.82978, -93.16729], [38.920879, -76.852836], [35.77982, -78.61345], [26.181665, -80.153142], [26.547242, -81.78913100000003], [34.17822, -117.440768], [41.57767, -87.540157], [34.07218, -117.900738], [36.624577, -119.682027], [33.8445, -117.828531], [45.29763, -93.79387], [41.746678, -87.85347800000002], [41.547793, -87.973076], [34.239653999999994, -111.323043], [27.84664, -82.34692], [37.96472, -122.32493999999998], [39.903846, -75.17450500000002], [37.890972, -121.572519], [32.924169, -96.757353], [41.26296, -96.15993], [37.624918, -122.079789], [25.760892, -80.394712], [33.8398, -84.31794000000002], [41.57765, -87.56348], [28.450381, -81.39912199999998], [36.342634, -119.994679], [33.916803, -118.285422], [43.794902, -124.148462], [45.08674, -93.18748], [40.647557, -74.202743], [43.196128, -77.57677199999998], [36.619858, -119.608279], [39.443191, -74.53961], [33.591190000000005, -112.11679], [29.71201, -95.398957], [25.688012, -80.384015], [25.77586, -80.358798], [34.03027, -117.66279], [45.50555, -122.67743], [40.0999, -82.92089], [35.945936, -78.53983199999998], [34.719125, -86.62828], [29.933088, -90.086402], [39.021561, -77.10554599999998], [44.506053, -95.422314], [48.380995, -122.221652], [30.372477000000003, -91.10078], [29.192482, -82.142147], [39.71446, -105.00117], [33.5107, -84.49871999999998], [34.21942, -119.07506], [28.450022, -81.472305], [27.96443, -82.54634], [33.745165, -84.390148], [41.81917, -71.41848], [42.20647, -121.72344], [42.406223, -82.956517], [37.215242, -93.275706], [33.631714, -86.62660699999998], [33.974727, -118.237027], [39.87591, -75.12100000000002], [35.364905, -118.974695], [34.081741, -117.712788], [37.51942, -77.51603], [41.186078, -76.88739], [26.678601, -80.13887199999998], [44.08882, -121.30587], [25.930963, -80.204789], [36.711503, -86.524233], [37.032367, -76.366129], [36.837211, -119.790104], [41.856569, -72.663327], [25.960627, -80.149384], [35.98097, -78.887], [42.86654, -121.83177], [40.262092, -74.51218399999998], [40.988477, -73.666366], [29.97457600000001, -95.421184], [32.362952, -86.171437], [39.163116, -77.236672], [25.626145, -80.41645], [37.454341, -77.486695], [34.24232, -118.41962], [35.425488, -119.089565], [34.392171999999995, -118.597031], [37.631746, -120.998493], [37.884068, -122.053342], [35.042193, -85.314802], [35.051918, -81.98424200000002], [27.947676, -82.531285], [33.961119000000004, -118.282706], [39.214717, -120.776951], [32.192352, -110.86652], [42.378441, -83.22183199999998], [37.879378, -122.182652], [30.257609, -97.750528], [29.184968, -82.168669], [40.152961, -76.18816899999999], [38.587353, -121.503699], [34.01903, -117.7401], [39.653105, -106.94543], [37.403809, -120.850134], [44.97022, -93.25259], [41.88681, -87.92041], [45.708214, -119.360411], [38.007698, -78.504643], [38.53415, -122.725194], [33.859919, -118.299192], [34.076682, -118.219381], [33.015475, -80.239139], [37.329021, -121.841801], [34.323617, -118.456445], [28.380214, -81.504968], [33.872734, -118.294703], [43.779603, -90.028525], [37.549002, -77.115202], [39.60702, -75.85381], [40.894604, -111.932664], [44.16135, -94.01939], [28.542812, -81.414901], [41.9272, -87.96163], [43.944268, -117.005912], [43.90298, -95.12028], [45.37638, -122.7552], [33.876092, -118.125184], [34.98466, -81.897249], [34.068283, -118.150994], [25.890117, -80.189662], [37.8089, -122.36634], [38.556876, -121.47441200000002], [38.766982, -121.253191], [36.15917, -86.79206500000002], [33.003409999999995, -96.7467], [25.717968, -80.41532], [25.881818, -80.242974], [43.07335, -77.916847], [26.703495, -81.75218199999998], [39.658467, -75.696403], [40.962529, -73.73616], [34.155944, -118.822384], [44.270136, -123.06109], [41.90033, -87.66023], [29.653606, -95.267096], [33.10655, -117.31277], [41.126735, -112.06452], [34.424951, -118.423997], [32.711381, -117.100782], [25.770114000000003, -80.315348], [28.316677, -81.484932], [27.849008, -82.803788], [43.013867, -74.928442], [32.89385, -79.98304], [27.777267, -82.710823], [33.392398, -112.05819], [40.7665, -111.99669], [34.0378, -118.2798], [33.779002, -117.894491], [45.563799, -122.925356], [45.274532, -122.773862], [34.41931, -118.58112], [37.031809, -76.37760899999998], [36.980046, -120.082955], [44.625767, -123.062249], [45.1087, -93.30116], [47.61455, -122.32959], [33.802275, -117.768802], [39.97629000000001, -83.11041999999998], [27.337831, -82.473192], [38.389376, -75.12823], [39.34112, -76.64735], [34.06148, -117.280224], [42.34674, -83.21634], [33.44117, -84.698077], [34.048286, -118.44821], [39.24152, -76.693552], [25.94529, -80.148561], [32.856026, -96.648524], [34.254647, -118.432723], [28.543824, -81.285827], [35.599667, -78.577139], [41.273629, -122.283771], [46.509876, -114.024865], [41.06888, -73.86813000000002], [26.697345, -80.06995699999997], [37.70225, -121.7446], [33.871656, -98.560959], [39.047694, -76.62244100000002], [38.751372, -75.98142800000002], [38.683927, -76.872345], [36.128314, -86.90075], [35.40860900000001, -119.020353], [40.696493, -73.980435], [29.81036, -95.37394], [33.541266, -111.442905], [45.765733, -111.145842], [34.063957, -81.138657], [25.473372, -80.493654], [34.14298, -118.02119], [30.38737, -81.55824], [40.034245, -75.01965799999998], [47.42859, -123.12576], [31.756678000000004, -106.488634], [45.519724, -123.084312], [37.324513, -122.39988999999998], [37.245723, -93.260868], [33.006087, -96.708063], [34.121365000000004, -117.357291], [43.192276, -77.60874], [40.084322, -75.41035500000002], [29.705447, -95.485179], [40.83458, -73.87391], [27.337756, -82.465216], [37.34267, -121.84801000000002], [32.925713, -96.824822], [40.06375900000001, -75.324679], [37.173371, -93.316059], [33.27471, -80.56768000000002], [29.77799000000001, -95.43449], [40.654637, -74.007464], [27.869436, -82.786951], [25.621162, -80.378693], [33.41191, -86.67619], [25.670686, -80.383957], [41.904205, -88.033435], [33.941, -117.25483], [33.699399, -117.347857], [38.712629, -120.90913700000002], [42.4662, -88.017491], [38.50015300000001, -76.777059], [34.070423, -117.400255], [40.778481, -74.048445], [38.01876, -121.94717], [42.98078, -78.90997], [40.768646, -73.907324], [40.521269, -111.89132], [29.77624, -95.29604], [33.851763, -117.291993], [39.105716, -94.704927], [32.878378000000005, -96.897922], [34.020299, -117.3389], [37.335613, -79.859011], [41.098363, -74.038363], [35.840001, -78.677142], [45.083426, -123.959911], [42.46567, -87.97218000000002], [35.8982, -78.72465], [28.57136400000001, -81.40668199999998], [42.785762, -77.598795], [41.770197, -76.41917], [33.349002, -111.966642], [43.095887, -77.397438], [35.140037, -81.510865], [47.36904000000001, -122.76411], [39.013921, -123.127394], [33.823046999999995, -117.831602], [40.09797, -75.41801], [30.070417, -82.677307], [32.302945, -90.166258], [37.61728400000001, -122.154525], [32.838796, -96.914557], [35.821272, -78.62329799999998], [43.10808, -77.463882], [33.927690000000005, -118.26762], [37.00287700000001, -121.534993], [33.871482, -117.68551399999998], [37.752016, -118.983682], [32.51397, -93.726547], [33.876490000000004, -118.101988], [34.095155, -81.170349], [36.604331, -121.694923], [34.97625900000001, -81.94229], [38.96268, -94.77619], [26.088207, -80.168542], [45.05738, -93.18735], [40.937687, -73.83762], [34.042314000000005, -117.749499], [39.345262, -77.388295], [40.84591, -73.929684], [34.051021, -118.957174], [40.220028000000006, -75.24794], [37.810386, -122.248353], [38.70952, -104.72476], [34.480365, -82.525338], [25.747611, -80.33967700000002], [41.731727, -74.066475], [39.412883, -76.61600200000002], [38.972506, -76.896835], [44.13201, -122.520992], [37.832658, -122.00532], [34.149475, -118.469101], [42.950867, -78.711773], [27.870075, -82.347762], [32.67622, -97.03963], [25.746687, -80.372947], [34.145603, -117.310028], [44.89982, -122.94118], [34.199255, -80.778099], [43.10241, -77.43212], [38.594332, -121.382899], [39.113277, -77.537661], [33.896943, -117.48793899999998], [25.68827000000001, -80.32343], [35.895884, -78.506633], [37.040966, -88.267462], [40.69851, -74.1558], [39.065487, -77.035892], [36.758719, -76.341215], [41.93895, -87.73953], [25.914852, -80.211857], [36.625993, -121.840184], [37.996565, -122.533805], [33.735322, -117.285725], [47.02758, -94.53648], [34.070446999999994, -117.396024], [25.812456, -80.206209], [29.65594, -95.348858], [39.250041, -81.30538299999998], [44.563932, -123.240002], [25.731812, -80.335697], [38.643133, -121.434677], [25.882665, -80.361159], [40.09025, -75.0936], [37.324966, -80.032964], [38.674222, -76.876121], [32.421483, -93.720884], [34.057941, -118.255208], [34.020495000000004, -118.194105], [34.030719, -117.585855], [39.260534, -76.703678], [37.418875, -121.96465], [45.175781, -122.855233], [31.041543, -104.907218], [38.387464, -120.737134], [33.51924, -80.43411], [29.968291, -90.10714], [44.96491, -93.28318], [30.33441, -87.142622], [26.206182, -80.132733], [37.584274, -121.873362], [33.989203, -118.241505], [35.098178999999995, -120.610759], [41.86561, -87.76431], [33.28519, -80.51028000000002], [39.28656, -76.61357], [43.127194, -92.795212], [35.7798, -78.721126], [40.727423, -113.266285], [40.69926, -111.93895], [30.084522, -95.436891], [37.841401, -122.297368], [34.01784, -117.5308], [38.49611, -121.39055], [33.889756, -118.192966], [29.420861, -82.523599], [40.71135, -96.321341], [33.97273, -118.3794], [39.80016, -86.01567], [33.900058, -117.473263], [34.195407, -80.28575699999998], [40.755447, -73.208867], [25.988829, -80.34331], [34.139826, -80.915192], [34.163971999999994, -118.834894], [38.540436, -77.348241], [34.251544, -119.143797], [40.90562, -74.1045], [35.241002, -80.64518299999997], [34.08701, -117.68588], [25.8084, -80.20640999999998], [36.334688, -121.25006299999998], [35.377403, -83.25142199999998], [45.4249, -122.57744], [33.895751000000004, -118.050638], [43.01668, -74.81778], [41.117845, -74.118779], [37.693485, -122.097711], [30.433474, -86.639374], [42.99497, -78.88016999999998], [40.22294, -79.60526], [34.136377, -117.956331], [40.699615, -112.024862], [28.194338, -82.39121], [29.748505, -95.457449], [33.958516, -84.35509], [36.14798, -95.90462], [26.51735900000001, -81.794811], [35.891366, -78.557525], [37.544773, -77.326398], [45.052763, -122.713732], [41.910681, -87.933583], [37.57989600000001, -77.515149], [34.10311, -118.192668], [44.274072, -121.169407], [33.884392, -117.629321], [26.076637, -80.16833000000003], [38.492402, -121.427403], [35.378346, -80.775763], [38.857494, -76.993764], [36.046586, -86.610621], [44.642795, -123.06277], [42.668098, -71.07752099999998], [43.073041, -83.709011], [29.88938, -95.415522], [42.31733, -122.8572], [30.162979, -81.747378], [32.96118, -96.72705], [28.147368, -81.444008], [44.110625, -123.179128], [38.01666, -121.942025], [35.816807, -78.73879699999998], [42.421633, -123.349543], [45.21077, -93.02948], [46.18921, -123.84924], [30.29849, -84.348783], [39.053145, -94.679415], [33.07512, -97.02263], [32.912633, -96.875907], [39.335278, -77.377608], [41.5186, -88.19091999999998], [39.841346, -79.044376], [36.313537, -119.677518], [47.463759, -122.245592], [25.796828, -80.338185], [39.31216, -76.74450999999998], [33.913436, -118.123886], [38.361991, -122.022955], [25.816086, -80.206008], [25.827126, -80.241028], [33.88353, -117.53691], [45.0222, -92.781172], [31.653896000000003, -86.771982], [33.96385, -118.36992], [34.35638400000001, -117.438214], [37.344841, -77.445983], [38.879959, -121.113281], [39.811453, -122.104056], [38.884538, -77.088717], [32.924118, -96.400669], [30.21387600000001, -97.83039], [44.25935, -121.179438], [37.17202, -76.55045], [40.833716, -73.862346], [38.242732, -77.501775], [40.90113, -72.38313000000002], [30.266443, -97.740737], [28.431713, -81.40470400000002], [32.86254, -96.89395], [39.885874, -78.244596], [34.007215, -117.348133], [33.64029, -112.0829], [32.860122, -96.858267], [32.653952000000004, -117.089313], [39.075697, -94.597795], [41.326726, -76.944461], [37.889442, -121.6231], [33.957084, -117.54909], [28.334477000000003, -81.489633], [39.767582, -84.21002800000002], [38.914416, -76.93276], [35.034690000000005, -89.7906], [38.9588, -78.18977], [37.5173, -79.727701], [25.940336, -80.1887], [35.240866, -80.944159], [37.56581, -122.041091], [40.851486, -73.952111], [33.05836, -96.69325], [40.008687, -75.31371700000003], [42.243536, -86.261934], [43.05337, -76.10595], [47.23849000000001, -122.41609], [32.350970000000004, -90.1531], [30.729907, -81.94495400000002], [33.82343, -84.156129], [39.931807, -111.088982], [38.90806, -91.53726], [43.06871, -76.167401], [32.965193, -80.149226], [29.77157, -95.398597], [37.11602, -80.42497], [34.004738, -117.930277], [45.377794, -122.225292], [41.62305, -72.68513], [41.64945, -93.57467], [37.251244, -121.80907], [39.18638, -104.85025], [42.91503400000001, -85.56881800000002], [40.845262, -73.927777], [32.23611, -110.87546], [42.47963, -83.43186999999998], [42.967411, -73.801378], [35.18618, -80.96891], [27.950602000000003, -82.533727], [39.8231, -104.9673], [37.57502, -122.04713999999998], [34.191253, -118.155783], [37.37259, -121.92308], [35.332031, -119.039735], [38.252408, -87.392421], [37.255367, -121.956318], [39.954494, -111.257034], [45.54143, -122.678672], [38.57118300000001, -121.372847], [42.913841, -85.677776], [34.154244, -117.350659], [41.118907, -73.522509], [25.963441, -80.205935], [34.058679, -118.177367], [39.19710900000001, -121.785263], [37.292393, -80.104376], [45.026902, -93.286115], [35.022889, -82.378869], [28.337322, -81.403162], [34.064017, -117.558267], [34.020169, -118.156198], [38.953908, -77.37345400000002], [48.054746, -100.930377], [40.190119, -74.74821700000003], [34.06166, -117.187274], [34.281152, -82.431524], [34.853552, -82.390525], [45.021679, -92.981802], [47.256306, -93.024233], [39.404037, -77.430631], [34.226389000000005, -119.16388899999998], [38.58973, -121.382925], [42.13617, -122.03563], [25.883893, -80.243208], [25.81245, -80.21472], [34.977299, -82.194019], [35.18559000000001, -85.34645400000002], [33.873484000000005, -118.010288], [33.68572, -84.06567], [40.1818, -111.034304], [35.037636, -85.319683], [35.695692, -120.68287], [28.552682, -81.415942], [35.41091, -80.84136], [36.15402, -86.75844000000002], [40.70309, -73.482173], [41.30083, -74.03121], [33.318833000000005, -83.98931], [33.412859999999995, -111.89151], [47.78001, -122.31744], [25.694357, -80.38722299999998], [41.757342, -87.953901], [34.607295, -81.077835], [38.28337, -104.57339], [34.339796, -79.539459], [25.792699, -80.23956700000002], [27.601384000000003, -82.539606], [46.31495, -93.836364], [37.903767, -122.522623], [40.471965, -79.967129], [35.642189, -78.832932], [37.035654, -121.596695], [39.023362, -122.917195], [36.388279, -118.946617], [30.35257600000001, -91.133846], [29.737705, -95.499954], [40.141764, -75.168318], [34.897022, -82.486351], [33.506170000000004, -117.65974], [37.71212, -122.096699], [33.653456, -112.082803], [46.974974, -96.882644], [37.801161, -121.988346], [47.15818, -122.397168], [40.231943, -76.891267], [35.274091, -119.019228], [33.494999, -112.175193], [39.392031, -121.14687], [37.73174, -122.40434], [38.963173, -76.867035], [45.00776, -93.20458], [44.26979, -121.17155], [40.30469, -80.161839], [45.584115, -122.679251], [40.661888, -74.185211], [26.72197700000001, -81.761072], [37.34372000000001, -77.335499], [44.129511, -122.477417], [25.746568, -80.370632], [33.960513, -117.312789], [39.928841, -77.984307], [32.860963, -96.719831], [30.692063, -86.57196], [34.836284, -78.976484], [28.001363, -82.304916], [38.693336, -121.457862], [45.861428, -114.037495], [32.810121, -117.114869], [29.78527, -95.70601], [43.283563, -123.355971], [34.809464, -82.232681], [25.702542, -80.330056], [28.46612, -81.46500999999998], [32.80593, -79.95416999999998], [39.641836, -75.808249], [25.810108, -80.338998], [39.77954, -84.240619], [44.928269, -123.281411], [39.239655, -104.877237], [44.56608, -123.258831], [42.352429, -83.092223], [38.496121, -121.39052], [35.683156, -78.840533], [44.00554, -123.70235], [27.775966, -82.334898], [39.201244, -121.287231], [39.440177, -74.539135], [39.807238, -120.467224], [25.669662, -80.449451], [37.706104, -121.077543], [30.452593, -91.184785], [33.876332, -118.091037], [33.935403, -118.213151], [33.86315, -118.04432], [42.370605, -123.50426000000002], [32.758139, -117.10869], [26.525779, -81.900607], [34.081679, -117.731468], [30.759281, -88.092422], [39.955486, -75.335883], [28.543043, -81.74177900000002], [36.06094, -80.1808], [41.71344000000001, -88.00674000000002], [38.77084, -90.26061], [39.889909, -121.984924], [25.906888, -80.383003], [38.660686, -121.337261], [34.262578999999995, -118.440599], [32.546342, -93.519712], [26.616606, -80.056596], [40.11671, -75.069266], [38.197957, -120.980739], [41.05666, -73.8121], [40.23772, -76.13051999999998], [29.42431, -95.05414], [38.275643, -122.04756299999998], [37.361125, -79.961247], [32.764395, -117.205334], [38.61795, -121.401525], [42.46492, -87.90339], [35.070564000000005, -85.24326500000002], [33.461859999999994, -112.07731], [31.957590000000003, -81.33140999999998], [34.068028000000005, -117.60353], [43.079426, -73.804445], [38.359362, -81.640194], [27.77217000000001, -80.55100999999998], [37.595184, -122.058277], [26.93460300000001, -80.14948000000003], [39.95962100000001, -75.18099699999998], [38.02650300000001, -122.114503], [32.275332, -112.741923], [37.58423, -77.49676], [38.887921, -77.162657], [40.13046, -75.40189000000002], [45.533904, -122.6262], [34.52140900000001, -117.572916], [37.420152, -121.940656], [43.084367, -76.429918], [40.696619, -111.985096], [46.077465, -93.810248], [42.938851, -121.82766], [30.41330300000001, -91.176251], [41.694998, -90.565979], [37.29134000000001, -121.93673], [28.338835, -82.620853], [40.648094, -111.902242], [47.757764, -114.167086], [38.61268, -90.21634], [30.854743, -86.674964], [34.354358000000005, -118.97978700000002], [36.972946, -121.381828], [42.36556, -86.26818], [34.239586, -86.494605], [40.251584, -75.654928], [34.068881, -118.042177], [34.112884, -118.776587], [32.243886, -109.120591], [29.732813, -95.452305], [28.482979, -81.447755], [36.605369, -118.063174], [34.400898, -118.45824], [32.759267, -96.975899], [34.927653, -79.320777], [44.9468, -93.07931], [35.012851, -81.928732], [32.342344, -90.60428], [39.288235, -76.6452], [45.38406, -117.98821], [40.76091, -73.95645999999998], [34.0674, -117.575033], [29.597335, -95.477233], [34.744554, -117.334682], [38.50503, -90.58912], [41.13463, -73.29335], [34.201260999999995, -118.473583], [47.67038, -122.32172], [44.950915, -93.105], [44.67932, -123.86221], [33.92495, -118.317783], [34.777394, -92.257934], [27.392155, -82.533061], [38.464685, -77.40695500000002], [27.998893, -82.505115], [35.358207, -118.914123], [36.760651, -120.712131], [33.70662, -78.91053000000002], [34.02864, -118.21611], [35.60311, -78.56322], [39.106155, -94.742317], [36.854091, -120.453252], [30.291076, -87.469872], [28.589604, -81.770042], [28.551268, -81.244599], [35.202091, -80.760529], [40.48117, -104.77337], [37.74155800000001, -122.407412], [30.042466, -89.968882], [25.700718, -80.383299], [44.96568, -93.24726], [42.92599000000001, -87.93556], [42.865294, -83.739563], [38.563995, -121.382528], [36.293674, -86.443814], [44.837361, -93.161283], [45.284122, -122.944922], [34.072971, -118.219388], [26.36709500000001, -81.807727], [34.17111, -118.522706], [32.515087, -93.748596], [38.848855, -77.220228], [30.774898, -88.244297], [34.155678, -118.439985], [35.181111, -80.89081800000002], [33.61078, -112.168461], [28.453644, -81.399952], [34.036997, -118.283991], [35.21541, -80.85343], [37.351466, -121.914328], [44.032946, -91.622144], [29.036495, -82.14471999999998], [35.75439, -78.64021], [27.96126, -82.45418000000002], [40.692242, -73.999515], [30.415378000000004, -81.741822], [33.937615, -117.123581], [29.735402, -95.26589], [42.28437, -122.818297], [32.862702, -96.744524], [25.62723, -80.414613], [34.050873, -118.006333], [34.081681, -117.716156], [40.805563, -73.921145], [33.762957, -117.864372], [33.832359999999994, -117.93246], [34.058823, -118.214408], [36.744021, -119.819759], [33.922315000000005, -118.104346], [35.3569, -118.91412], [40.621744, -75.481021], [38.907512, -78.500093], [39.904102, -86.269577], [35.030711, -109.254044], [42.868941, -73.809506], [39.987713, -78.060263], [36.357764, -117.52849], [38.69462, -121.440265], [34.14829, -118.08608999999998], [43.598345, -116.543649], [37.731378, -122.425239], [34.6474, -118.21845], [37.480125, -122.40727], [30.015631, -90.02147099999998], [36.11079, -96.01376], [45.287101, -93.560182], [32.850226, -117.180444], [35.308599, -119.001642], [37.307722, -77.40042], [33.956914000000005, -118.232823], [35.065088, -80.76100500000003], [38.704429, -121.312591], [32.480222999999995, -93.702295], [40.04355, -75.002764], [38.547968, -77.340499], [42.45304, -85.65465999999998], [39.638571, -104.749159], [33.842040000000004, -118.26618], [42.33506, -83.13096999999998], [41.82172, -71.42016], [34.209256, -80.662661], [26.330487, -81.811083], [35.191363, -86.567684], [32.838301, -96.761425], [29.774207, -95.367916], [30.422031, -87.304571], [37.79462, -122.20624], [25.763075, -80.304774], [25.69143900000001, -80.36596], [46.652938, -112.011505], [26.34587, -80.118], [35.23780700000001, -118.921675], [42.457519, -87.82521], [41.166533, -73.213351], [40.47787, -74.29071], [30.349154, -91.026695], [29.43788, -98.48993], [37.48034000000001, -76.92108], [39.932609, -75.20013900000002], [32.463814, -93.797302], [37.892935, -121.282181], [29.603616, -95.209381], [38.97064, -78.429604], [37.36256, -121.887828], [44.951945, -93.273174], [42.265359, -88.10351700000002], [26.581624, -81.71376500000002], [25.761071, -80.39058299999998], [38.000268, -120.430216], [40.726035, -73.903086], [43.74661, -91.96633], [35.551038, -97.622649], [39.87243, -75.10228000000002], [40.702481, -112.256969], [34.030671000000005, -117.602458], [42.92329, -89.08536], [36.796204, -119.7849], [39.925562, -74.95975200000002], [36.737997, -77.89784399999998], [38.847236, -77.427595], [34.506446000000004, -117.914035], [29.872737, -95.384908], [42.293378, -75.400725], [33.71134, -84.21434], [41.756125, -71.481052], [42.97917, -77.23966899999998], [35.30560999999999, -80.7497], [34.135459999999995, -117.96663], [30.383375, -97.650225], [37.739399, -121.215386], [33.93855, -117.87701], [25.824331, -80.321939], [34.065782, -117.994619], [37.614468, -120.980981], [25.866518, -80.20824300000002], [27.792174, -82.333591], [39.231391, -76.508129], [39.30818, -88.014261], [32.91773, -83.70576], [40.76145800000001, -73.955506], [36.831481, -76.296989], [25.769106, -80.35156500000002], [37.477502, -76.913451], [33.95669, -117.30653], [32.833442, -117.169635], [39.3093, -76.6612], [34.031318, -118.413185], [42.62182, -87.95257], [39.746419, -111.477563], [43.00399, -71.47525], [37.44902800000001, -120.92176], [29.674399, -95.565085], [39.663605, -76.886003], [31.685764, -106.267357], [38.80500900000001, -90.833576], [33.942, -118.227639], [40.643588, -74.659963], [34.525356, -82.69405], [29.794373, -95.397648], [36.964087, -76.412988], [33.85974, -118.29428], [33.960856, -118.282705], [29.926398, -90.102161], [38.328241, -81.578453], [41.177607, -73.195422], [38.524874, -121.474085], [33.047292, -80.099272], [37.90904000000001, -91.98204], [42.920154, -85.653748], [40.848392, -73.937005], [37.822884, -122.267916], [27.791923, -82.661486], [45.10346, -93.18818], [40.329083, -111.736074], [44.77474, -93.54083], [34.441777, -119.805387], [42.706207, -73.830968], [25.80545, -80.32104], [34.02023, -118.19024], [40.85694, -73.91753], [37.327743, -121.878188], [34.990048, -80.28584000000002], [38.14875, -85.77176], [27.388202000000003, -82.47063299999998], [35.33514, -80.71599], [40.737932, -111.9492], [43.619019, -116.25509], [40.081799, -75.389969], [29.876964, -81.32649], [42.912747, -85.639201], [38.02104, -85.91842], [38.247555, -122.319564], [39.910096, -74.989995], [25.763863, -80.303919], [29.116846, -81.617765], [38.590105, -120.846364], [36.539527, -119.836634], [48.240387, -114.325109], [35.12332, -80.91878], [38.55521, -121.40331], [25.93577, -80.35044], [36.985873, -122.02447], [27.960463, -82.748802], [39.987628, -105.236686], [40.75169, -73.775], [32.550409, -83.604851], [36.017912, -86.62428], [33.804140000000004, -84.41060999999998], [38.994008, -76.882485], [44.028943, -116.950482], [42.552088, -73.782662], [37.46884, -77.428013], [34.470489, -117.33702], [45.587152, -118.639936], [38.48999600000001, -122.34874], [32.973074, -117.179137], [41.2629, -96.18443], [44.396186, -122.48479], [45.046879, -122.955191], [33.177671000000004, -117.228154], [33.60689, -117.69501499999998], [27.0497, -82.35849], [33.633216, -117.697185], [37.8266, -122.26726], [25.729619, -80.439751], [43.590324, -116.365804], [39.959194, -75.599975], [35.87267999999999, -84.44819], [40.14689, -74.95277], [44.93176, -93.14658], [39.638914, -77.76466500000002], [40.151424, -79.792271], [43.013497, -73.798778], [35.168240000000004, -89.86445], [39.505599, -86.069594], [34.785675, -82.374437], [34.029709999999994, -118.224728], [27.388185, -82.468051], [33.545218, -86.650918], [42.28387, -83.78609], [39.75427, -122.20561], [42.72973, -73.79344], [33.846505, -118.284913], [33.86898, -117.73051], [25.51811, -80.410179], [30.272913, -82.08071], [35.404942, -119.033358], [28.884959, -82.094759], [25.796984, -80.335963], [32.831509999999994, -96.78069], [39.055317, -94.494201], [36.06087, -86.641613], [37.701321, -121.844867], [33.668149, -112.192822], [25.75594, -80.32023000000002], [33.8731, -117.664467], [33.590978, -112.1168], [40.046, -104.98077], [35.722819, -78.584062], [38.948844, -121.102762], [44.971128, -93.440448], [40.543885, -74.287361], [40.645314, -111.80839], [33.739118, -117.074841], [40.038675, -120.983902], [29.776517, -95.3125], [41.98232, -87.95915], [32.221421, -110.892257], [38.678421, -121.225561], [36.81943, -119.78521], [45.546813, -122.540546], [40.650031, -74.240842], [28.452163, -81.042086], [32.222426, -110.84108700000002], [25.609749, -80.37956199999998], [36.450229, -119.488909], [39.823969, -86.20588599999998], [39.17685, -84.4394], [35.8305, -78.61879], [25.64297, -80.334434], [44.060977, -121.302533], [34.493077, -118.161069], [44.90671, -94.1723], [35.197668, -80.790503], [40.1219, -86.51621], [34.094931, -117.8196], [34.08106, -118.222641], [26.774205, -80.132878], [28.18601, -81.734348], [28.752662, -81.890096], [30.413969, -91.144893], [34.795208, -118.852514], [36.882981, -119.978846], [43.142293, -77.466657], [32.74801, -116.98839], [41.95203, -73.75314], [34.004446, -118.063904], [30.335794, -81.75905999999998], [42.37853, -83.43658], [28.216704, -82.73737], [40.973444, -73.868521], [45.474493, -122.579065], [33.363909, -117.072374], [40.72552, -111.906464], [39.174152, -76.72779799999998], [35.79988, -78.72726], [44.399125, -93.220614], [42.48826, -82.91715], [26.667269, -81.888535], [40.82839, -73.41143000000002], [33.49703, -117.14845], [38.74408, -90.4105], [43.018713, -123.301783], [33.637467, -112.39407], [42.641791, -83.252645], [38.758997, -77.50326], [33.44775, -117.135727], [40.70156400000001, -73.993149], [47.316256, -93.358205], [39.75524, -86.14365], [37.997985, -84.52650200000002], [44.88489000000001, -93.13712], [40.28363, -120.49011000000002], [45.6128, -122.67823], [32.313226, -90.160363], [40.543725, -111.894802], [40.187205, -77.21121600000002], [26.20755, -80.13985], [39.534291, -77.606037], [30.23553, -97.756361], [41.87339, -71.38517], [27.103529, -80.263787], [41.930422, -72.60677], [39.619795, -104.89914], [47.65678, -122.32231000000002], [44.8619, -93.29843], [32.307969, -86.3374], [40.857286, -73.974036], [43.187387, -77.944362], [28.1278, -82.50231], [33.49371, -112.28106], [39.645586, -105.004422], [33.960007, -118.286764], [33.34431, -111.97208700000002], [34.07255, -117.614323], [43.617708, -116.28418], [33.3927, -117.590906], [33.901720000000005, -118.1866], [28.190619, -81.499593], [33.45169, -81.49270200000002], [30.41262, -84.30339000000002], [34.07221, -117.90351], [25.929706, -80.126198], [47.11166, -122.56915], [39.73292, -122.195186], [25.598341, -80.381026], [41.87075, -87.87661999999996], [37.764018, -122.217096], [28.037527, -82.034686], [42.927612, -85.66967], [43.66234, -124.187746], [33.82539000000001, -118.22382], [25.783518, -80.219429], [43.933644, -91.852543], [29.949236, -90.080432], [34.024729, -118.239231], [33.968139, -117.848521], [37.255578, -121.854171], [40.31614, -74.183779], [36.145541, -119.072458], [38.917154, -104.77535], [39.789187, -75.392863], [47.115142, -122.434781], [33.854319, -117.919959], [36.144681, -86.777006], [40.182937, -74.90193599999998], [40.137937, -75.212284], [33.568428999999995, -81.8801], [34.060762, -118.215235], [37.86691, -122.203511], [37.710562, -121.452882], [40.106789, -87.078286], [35.139562, -80.934092], [38.133991, -122.476289], [29.21803, -82.01599], [37.59489600000001, -122.368425], [30.359012, -91.008652], [47.48028, -115.93583999999998], [34.072484, -117.097891], [34.039747, -118.440598], [34.103933000000005, -118.319846], [35.12959, -80.94181999999998], [35.858806, -78.810843], [40.516902, -78.86332800000002], [34.14666, -118.22637], [40.716167, -73.826124], [25.93941, -80.281664], [35.952984, -83.978408], [40.47735, -74.29973000000003], [38.253064, -122.632788], [34.10344, -117.302078], [40.17654, -74.04122], [37.45457, -79.845167], [42.83606, -73.77018000000002], [44.728914, -121.236823], [33.180405, -117.314739], [42.849615, -78.79056899999998], [39.859605, -75.15616899999998], [34.906605, -81.774231], [35.424267, -82.528234], [41.84650300000001, -87.966986], [35.361018, -117.979737], [34.13467, -117.64173], [43.079043, -77.462223], [39.121469, -122.839881], [39.104751, -77.581447], [34.214547, -117.861816], [34.817124, -82.323953], [29.69173, -95.28362], [35.746663, -78.775295], [25.49956, -80.41230999999998], [42.32095800000001, -87.960617], [33.876725, -118.156331], [41.714939, -87.63222900000002], [42.66927, -84.54404], [45.081004, -94.310941], [34.881972999999995, -82.408829], [34.355221, -118.96833], [32.752959999999995, -97.0632], [35.055904, -85.26026], [34.877098, -82.213256], [36.101441, -86.675301], [32.893846, -96.748126], [30.42836, -91.1712], [40.69914, -74.2532], [34.200012, -118.857252], [34.176632, -118.865579], [37.53275, -77.43208800000002], [40.914397, -78.217035], [35.77132299999999, -78.574122], [41.74308, -72.7348], [43.138903000000006, -83.813835], [35.686908, -120.336853], [36.60255, -77.56434499999997], [40.779651, -73.657253], [38.353212, -81.627558], [38.051216, -78.500667], [36.180786, -95.958239], [28.41772700000001, -81.388323], [38.48879, -90.28237], [41.22365, -96.012], [43.223658, -117.051398], [41.022614, -80.197638], [38.51598, -90.54896], [32.428092, -93.717185], [40.068068, -74.963933], [37.586658, -77.474288], [40.420039, -120.703231], [37.693222, -122.052515], [37.754657, -121.146934], [25.748334, -80.28935899999998], [45.207318, -122.581246], [38.767091, -76.994478], [25.796839, -80.361082], [35.513116, -82.584942], [34.064094, -117.296501], [33.62885900000001, -112.030728], [34.15955, -118.46169], [38.663555, -121.296243], [33.87157, -117.68663], [28.324073, -80.771259], [26.36321, -80.11973], [32.719007, -117.098902], [28.548378000000003, -81.413837], [40.55018, -111.89602], [39.52862, -86.87204], [43.530082, -123.543399], [36.755114, -119.742704], [32.307224, -95.271847], [34.15677, -118.15843], [34.027613, -117.571438], [30.21588, -93.326774], [33.638283, -117.28128], [42.33428, -83.06515], [39.76568, -75.545939], [34.125464, -118.228356], [38.44554, -122.196481], [34.186639, -118.473991], [37.36274, -121.88781000000002], [44.83341, -93.05944], [35.263734, -112.044882], [40.69903, -73.50950999999998], [36.74564, -81.88681600000002], [38.615272, -90.193245], [35.64125900000001, -78.839977], [43.997122, -91.669439], [27.996836, -82.583463], [40.757866, -74.20951], [33.910294, -84.360664], [33.947331, -118.279698], [34.900172, -82.356247], [42.995174, -77.36022700000002], [38.193057, -81.50058299999998], [42.063709, -121.656267], [39.23818, -76.7063], [25.76972, -80.333946], [33.945464, -118.304215], [30.42426, -91.187731], [28.259185, -80.686973], [40.98735, -73.68024], [40.003221, -78.21671500000002], [36.825573, -76.194985], [33.91081, -117.88188], [35.054594, -81.992393], [45.092767, -123.764392], [34.875937, -120.482887], [25.92497, -80.29420999999998], [36.3468, -119.42428], [28.559937, -81.443957], [34.272247, -118.55627], [36.53723, -84.476386], [38.897877, -121.0775], [41.88142, -87.92063], [39.312096, -76.744469], [33.939156, -117.191794], [32.915289, -96.741386], [30.375004, -81.761179], [29.77303, -95.23295], [33.855931, -118.003186], [45.14343, -93.26673], [47.144451, -122.292952], [32.829084, -96.825415], [28.56369, -81.26718000000002], [38.770179, -77.537345], [38.91222, -76.93417], [39.514808, -121.444004], [32.759409999999995, -97.03692], [35.845597, -78.579944], [32.781239, -117.138837], [40.883398, -121.662064], [39.397991, -76.684044], [42.912737, -85.639189], [39.771607, -84.190586], [29.84214, -95.39068], [33.349823, -80.423571], [37.209103000000006, -121.722602], [37.76432, -122.21711], [36.184021, -86.77551600000002], [35.880521, -120.053261], [28.553154, -81.375148], [26.494077, -81.938019], [34.00156, -117.83701299999998], [40.65991, -75.07026], [40.2525, -123.832494], [39.15366, -84.48321], [32.560164, -93.776696], [39.105609, -94.48608], [45.191048, -93.545976], [30.167325, -81.74771], [25.811432, -80.195255], [36.121644, -115.07411], [44.040447, -121.306192], [26.110862, -80.168787], [26.13419, -80.25685], [34.044233, -78.28625500000003], [28.155001, -81.843868], [25.683558, -80.388], [40.25423, -75.20866], [38.85764, -121.309965], [37.854131, -122.220275], [42.950867, -78.711773], [34.454101, -119.765621], [40.02867, -75.464454], [37.631349, -120.84794], [39.52047, -76.19915999999998], [44.98378, -93.381198], [34.278372, -118.5235], [38.871828, -77.08087900000002], [34.574825, -82.910995], [33.187626, -117.236555], [45.822011, -119.553769], [45.495975, -122.887636], [39.7079, -105.19219], [39.01415, -77.11805], [38.900585, -77.070415], [40.676302, -121.403238], [33.791718, -117.890361], [28.32556, -81.40372099999998], [42.391969, -87.855214], [39.110201, -76.783865], [34.117752, -118.269591], [35.05299, -90.69474], [40.09422, -75.28658], [34.864211, -118.171522], [29.592216, -82.364622], [40.846277, -121.910963], [32.95122, -96.73415], [38.883474, -76.963526], [36.596866, -119.430817], [41.53797, -73.77626], [39.92127, -82.54826], [42.93308, -78.80212], [33.881255, -81.107003], [37.8443, -122.29767], [29.732786, -95.455923], [33.74566, -84.34585], [26.26943, -80.1258], [39.919789, -75.26472199999998], [40.708497, -73.727391], [41.98293, -87.78226], [35.348261, -119.039634], [28.356886, -80.700248], [40.93367, -73.86286], [40.69408, -111.90268], [38.574081, -121.577579], [33.94747, -118.36829], [38.38549, -122.71611], [40.71111, -73.95532], [33.9501, -84.134], [34.418751, -119.574267], [40.69004, -73.99878000000002], [42.553021, -84.799828], [34.050588, -118.213914], [37.824951, -122.310479], [39.08654600000001, -94.488112], [36.822851, -119.627963], [31.322102, -89.378128], [41.94600000000001, -87.75692], [43.17075300000001, -77.68329], [46.847846, -96.780906], [44.75587700000001, -122.416483], [35.417457, -82.523664], [34.120385, -117.740358], [42.397669, -83.111355], [34.117709000000005, -117.851821], [47.628783, -116.681456], [41.672099, -88.20419100000002], [25.684179, -80.35395], [27.5855, -82.618507], [38.092041, -78.997759], [33.68038, -117.17077], [30.209307, -82.637512], [33.46133, -112.10216], [38.80422, -77.21265], [39.77834, -104.89542], [43.11247, -78.77305], [32.784136, -96.802564], [36.333569, -86.02526800000004], [42.822491, -78.791232], [33.85115, -84.24648], [25.598634, -80.352987], [28.388854, -81.244293], [40.42311, -85.549295], [29.74806, -95.2648], [28.465886, -81.334313], [25.811616, -80.197845], [42.029753, -88.338151], [45.40240900000001, -118.336935], [28.408749, -82.192775], [34.16952, -118.38543], [25.768632, -80.366883], [38.011751, -121.257923], [33.70541, -117.85478], [37.04109, -76.395212], [36.058984, -79.65685400000002], [38.47473, -121.94446200000002], [41.96679, -124.2027], [34.154133, -118.467958], [36.987807, -121.963013], [38.80252, -77.10923000000003], [41.411938, -73.45081400000002], [42.18804, -121.76924], [36.787669, -80.83389], [25.82733, -80.249087], [35.43982800000001, -82.535466], [28.567293, -81.21176899999998], [25.689166, -80.35015200000002], [37.082482, -119.307983], [35.837169, -78.66261300000002], [42.889572, -121.830465], [27.90258900000001, -82.401742], [33.799890000000005, -84.39126], [34.03325, -118.18463], [37.355378, -77.595075], [39.08674, -94.54109], [42.73454, -71.46328000000003], [37.13888, -93.365149], [38.339636, -122.739246], [32.690228999999995, -117.116258], [32.92459, -96.78684], [39.218477, -76.726895], [29.939195, -90.102091], [41.634775, -87.008493], [33.46162, -112.267654], [32.141307, -110.986729], [37.90912, -122.06863], [44.589007, -123.432725], [25.539591, -80.40803299999997], [34.13102, -117.206774], [29.930472, -95.411992], [34.06357, -117.81027], [42.430183, -88.086881], [38.610391, -121.38285], [39.12143, -76.54819], [43.020197, -76.14054399999998], [39.280822, -80.278182], [34.137793, -117.314769], [41.639881, -91.56093], [35.054005, -80.850101], [33.500565, -111.887973], [40.566631, -79.754468], [40.287214, -75.294871], [36.557585, -121.910974], [34.233121999999995, -119.174453], [37.41946, -121.955079], [36.963797, -121.551788], [46.09447, -123.09181], [38.670298, -121.382969], [32.893584999999995, -96.803866], [37.42237, -122.226329], [25.841867, -80.241505], [33.936576, -118.043725], [40.700011, -111.902005], [38.622028, -78.688951], [36.379541, -94.172862], [39.216417, -121.061149], [30.190839, -81.739485], [42.13919, -121.88746], [38.3598, -122.71303], [40.238158, -79.579101], [40.998999, -73.654747], [41.122167, -73.332403], [33.354502000000004, -86.854487], [40.744424, -74.00849699999998], [46.44572, -94.30171], [39.618758, -76.665392], [34.289487, -117.45156], [42.541769, -92.425092], [28.552164, -81.344658], [41.414166, -73.273821], [37.270056, -120.960019], [40.194755, -75.111034], [36.893758, -119.528562], [39.79723, -105.04791000000002], [33.75119, -84.4963], [38.661046, -120.936893], [33.779901, -117.876874], [40.167189, -76.150741], [39.948831, -77.136157], [36.923734, -120.022147], [37.581317, -77.469307], [26.26943, -80.1258], [44.872829, -84.689552], [40.12946, -76.2158], [45.658264, -122.56749], [47.367224, -94.862916], [41.079878, -73.921839], [34.050249, -118.458647], [33.909381, -112.674705], [34.092369, -117.544025], [32.648965000000004, -117.062701], [40.376754, -76.295369], [25.973716, -80.165949], [44.9528, -93.04109], [35.898133, -78.650796], [44.974992, -93.288938], [36.227106, -115.279049], [43.090251, -88.900694], [43.286848, -77.714586], [38.94063, -94.583512], [30.246847, -97.618351], [32.734435999999995, -96.822357], [25.699599, -80.382101], [40.84694, -73.93365], [38.613024, -121.40148], [30.005075, -90.033567], [30.434382, -86.608965], [38.960073, -92.253191], [40.36449, -80.02282], [29.267015, -82.211533], [39.18534, -94.5186], [40.556735, -74.467391], [32.851209000000004, -96.822773], [32.65618, -117.08654], [40.640326, -111.903444], [25.890014, -80.212898], [26.19347, -80.15155], [41.56728, -81.53703], [40.491495, -124.097891], [25.578347, -80.369697], [37.84564500000001, -77.452453], [33.83087800000001, -117.834297], [33.81903, -84.25005999999998], [42.732612, -73.698332], [44.92497, -93.45141], [43.63759, -95.82467], [33.801004, -79.07726600000002], [30.34039000000001, -97.6992], [34.037025, -118.309067], [32.659844, -96.891158], [30.574213, -87.08676], [37.799116, -122.220786], [33.989649, -117.280557], [35.958488, -80.52919], [41.571353, -95.924468], [33.451370000000004, -112.15177], [35.47879000000001, -82.55507800000002], [43.074553, -86.082135], [25.889423, -80.16140899999998], [44.525865, -123.268015], [42.358592, -83.115938], [37.208022, -93.312107], [25.933097, -80.121872], [47.552169, -122.070147], [34.072431, -118.467382], [40.047392, -122.17043], [39.998592, -76.736379], [35.832991, -78.637513], [44.441961, -75.752094], [44.919683, -93.27198], [40.724661, -111.929286], [40.666514, -73.809033], [35.08328, -81.70491], [40.73547, -73.85982], [38.879449, -77.246792], [33.9455, -118.279518], [37.392703, -77.660199], [36.166025, -86.77888100000001], [39.377553000000006, -77.26145], [33.719633, -84.396426], [44.869505, -93.06069], [33.434453999999995, -117.617214], [30.40937000000001, -86.652849], [40.913014, -124.072259], [35.026658000000005, -85.281713], [37.741738, -121.574009], [33.23486, -87.576685], [26.120732, -80.254044], [28.387849, -80.745048], [37.692273, -113.608411], [34.071661, -118.134358], [35.997211, -80.475599], [33.853501, -80.811835], [33.0448, -117.28601], [35.99312600000001, -119.299096], [29.588222, -95.459115], [35.05096, -85.26176099999998], [27.33778, -82.46370999999998], [37.99516, -84.51754], [25.781643, -80.31685999999998], [37.052346, -122.073196], [29.779117, -95.369137], [40.212425, -75.225971], [34.380716, -119.481908], [34.069692, -117.396007], [33.109241, -84.00222600000002], [36.138225, -86.80713], [36.059049, -79.082505], [37.643676, -122.447229], [43.26858, -123.3565], [37.764802, -121.335962], [32.113748, -86.06694499999998], [33.00929, -96.70779], [33.43566, -111.94443], [45.41138, -122.5725], [37.284055, -121.81269], [26.591225, -81.712406], [38.64356, -121.350653], [39.727833, -105.693481], [30.4366, -84.28564], [40.74491, -73.84745], [34.06899, -118.46328], [39.263902, -94.51052], [47.56469, -122.37248999999998], [45.81649, -94.556044], [40.236828, -76.898064], [39.26684, -76.6099], [33.944507, -79.810254], [28.53833400000001, -81.384047], [44.0812, -123.17261], [38.472716, -121.418227], [34.504763, -82.96975400000002], [34.485141, -118.638991], [40.11955800000001, -87.159079], [40.237658, -75.24177399999998], [37.650838, -120.490445], [30.166663, -97.76936], [33.035663, -80.146282], [41.62239, -83.54204], [40.703249, -74.143722], [33.989711, -81.167052], [30.004669, -90.02722299999998], [40.24328, -75.34325], [38.790559, -76.78411899999998], [34.18458, -118.896618], [41.052228, -73.810476], [45.475764, -118.397869], [37.546802, -77.429732], [33.782413, -118.280766], [38.65517, -121.025251], [38.934892, -94.614139], [34.049306, -117.305245], [35.571805, -77.2062], [41.23273, -95.95501], [25.924424, -80.31085300000002], [28.35967, -81.38773], [37.59765, -92.71877], [33.461789, -112.141051], [39.52329, -119.62411000000002], [37.60262, -122.06388], [34.0958, -117.30201], [39.70310300000001, -86.108002], [34.068589, -117.39602], [33.996279, -118.33833], [34.07006, -117.133806], [33.60865, -117.109386], [45.58207700000001, -92.992705], [44.392157, -123.061112], [33.878778000000004, -78.607939], [25.788321, -80.203973], [39.04726, -94.67876], [36.57467800000001, -121.729274], [28.36673, -80.701525], [34.157621, -118.412743], [38.550306, -121.473874], [34.149629, -118.664549], [43.126006, -123.364089], [35.842621, -78.68180100000002], [38.95071400000001, -77.62220500000002], [39.235535, -81.506119], [29.396104, -98.500908], [25.946272, -80.159593], [28.356229, -80.779758], [45.289324, -93.764694], [33.749340000000004, -84.23148], [30.191341, -81.69559100000002], [36.894833, -121.427525], [45.73524000000001, -123.257737], [36.77161, -76.25742], [33.87608, -118.12872], [36.852943, -76.321168], [42.40477, -83.14644], [28.23445, -81.189688], [38.27626, -122.0474], [42.038422, -87.868148], [37.71018, -122.39552], [44.773803, -93.30917], [38.05118, -78.69896999999997], [35.901817, -78.76561], [41.567126, -72.49748100000002], [41.780269, -72.663498], [40.08044, -75.45423000000002], [35.35276, -119.033234], [29.680195, -95.286547], [45.717705, -123.894182], [28.479233, -81.44975], [38.465544, -77.408119], [34.028231, -118.229938], [41.173568, -112.013497], [25.853163, -80.322365], [37.987805, -121.26875], [38.247053, -122.627917], [43.002059, -83.76400600000002], [33.767265, -117.921618], [34.20296, -118.196863], [33.91179, -117.44708], [37.742176, -121.525635], [29.86747, -95.5639], [37.657977, -121.902949], [25.697237, -80.414551], [28.566762, -81.286012], [40.667663, -111.981421], [41.701601, -72.75793399999998], [39.949566, -81.960762], [30.277789, -97.770167], [36.081371, -86.69702099999998], [36.375234000000006, -120.99576299999998], [28.554786, -81.666537], [41.400892, -73.068275], [33.90354, -118.18536], [34.081901, -117.715678], [34.457297, -118.617354], [30.466085, -87.242018], [33.441313, -112.10828], [27.888954, -82.71895], [39.147881, -94.559658], [38.894778, -76.952789], [38.7038, -121.3578], [25.564328, -80.38255699999998], [30.440487, -97.698759], [38.20826, -122.15016], [25.634601, -80.414637], [37.45833, -122.143532], [26.455078000000004, -80.090152], [45.98972, -122.872924], [40.84005, -73.92905999999998], [34.426308, -119.724125], [41.24057, -77.000466], [45.042766, -120.997674], [43.612841, -116.593445], [47.243873, -122.255241], [26.55922, -81.66186], [33.039955, -117.284083], [28.668509000000004, -81.492841], [26.682189, -81.893437], [37.526049, -77.600897], [39.835256, -84.819313], [42.993057, -83.66145300000002], [30.47998, -97.80186], [25.812254, -80.248487], [34.105247, -118.322884], [34.171482, -118.466169], [34.82717, -82.30009100000002], [35.635001, -80.489727], [34.015994, -118.054865], [32.772803, -117.128922], [34.136076, -117.406436], [37.768669, -122.397039], [45.57722, -122.674794], [29.727938, -95.520547], [40.32790900000001, -76.523494], [26.291918, -80.123144], [33.901878, -118.286894], [39.865579, -75.104968], [32.785371999999995, -117.145456], [33.934739, -117.289835], [39.275207, -84.44033], [34.053141, -118.002248], [35.493638, -119.527256], [37.55415, -122.29162], [32.73498, -96.82382], [30.304461, -81.633093], [34.13743, -117.32684], [33.192805, -117.091324], [33.855936, -118.00235], [37.34859, -121.84005], [40.741439, -74.083125], [35.881735, -78.367306], [34.155355, -83.44312], [45.053216, -93.057852], [37.916468, -121.291004], [34.15453, -118.39248], [33.683131, -117.87611], [37.898899, -121.284645], [44.07439, -121.30256], [38.771416, -77.53511999999998], [35.203174, -80.75624300000001], [39.841049, -86.24704200000002], [39.3606, -76.7625], [38.972109, -94.516697]],\n",
       "                {&quot;blur&quot;: 15, &quot;maxZoom&quot;: 18, &quot;minOpacity&quot;: 0.5, &quot;radius&quot;: 25}\n",
       "            ).addTo(map_5c3bfd38e3ca947e17f5e892bd5650d1);\n",
       "        \n",
       "&lt;/script&gt;\n",
       "&lt;/html&gt;\" style=\"position:absolute;width:100%;height:100%;left:0;top:0;border:none !important;\" allowfullscreen webkitallowfullscreen mozallowfullscreen></iframe></div></div>"
      ],
      "text/plain": [
       "<folium.folium.Map at 0x7feaeb6504c0>"
      ]
     },
     "execution_count": 35,
     "metadata": {},
     "output_type": "execute_result"
    }
   ],
   "source": [
    "# To create a heatmap\n",
    "map = folium.Map()\n",
    "HeatMap(lat_lon_pairs).add_to(map)\n",
    "map"
   ]
  },
  {
   "cell_type": "markdown",
   "id": "b5ef0e60",
   "metadata": {},
   "source": [
    "##### Both coast has a high percentage of accidents and there are lower accidents in the middle regions"
   ]
  },
  {
   "cell_type": "markdown",
   "id": "441039cc",
   "metadata": {},
   "source": [
    "## Summary\n",
    "\n",
    "###### Insights:\n",
    "    1. No data from New York\n",
    "    2. Less than 5% of cities have more than 1000 accidents\n",
    "    3. Over 1,100 cities have reported just 1 accident\n",
    "    4. Most accidents occurred during weekdays\n",
    "   "
   ]
  },
  {
   "cell_type": "code",
   "execution_count": null,
   "id": "7106ec1f",
   "metadata": {},
   "outputs": [],
   "source": []
  }
 ],
 "metadata": {
  "kernelspec": {
   "display_name": "Python 3 (ipykernel)",
   "language": "python",
   "name": "python3"
  },
  "language_info": {
   "codemirror_mode": {
    "name": "ipython",
    "version": 3
   },
   "file_extension": ".py",
   "mimetype": "text/x-python",
   "name": "python",
   "nbconvert_exporter": "python",
   "pygments_lexer": "ipython3",
   "version": "3.9.13"
  }
 },
 "nbformat": 4,
 "nbformat_minor": 5
}
